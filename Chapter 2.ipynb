{
 "cells": [
  {
   "cell_type": "markdown",
   "metadata": {},
   "source": [
    "# Chapter 2: Computing and Displaying Data"
   ]
  },
  {
   "cell_type": "markdown",
   "metadata": {},
   "source": [
    "## Spherical astronomy"
   ]
  },
  {
   "cell_type": "markdown",
   "metadata": {},
   "source": [
    "### Declination of the Sun"
   ]
  },
  {
   "cell_type": "code",
   "execution_count": 1,
   "metadata": {},
   "outputs": [
    {
     "name": "stdout",
     "output_type": "stream",
     "text": [
      "declination = 23.43 deg\n"
     ]
    }
   ],
   "source": [
    "import math\n",
    "\n",
    "N = 171 # day of 1st solstice\n",
    "omega = 2*math.pi/365.24 # angular velocity in rad/day\n",
    "ecl = math.radians(23.44) # obliquity of the ecliptic\n",
    "\n",
    "# approximate expression for declination of the Sun\n",
    "delta = -math.asin(math.sin(ecl)*math.cos(omega*(N+10)))\n",
    "print(\"declination = {:.2f} deg\".format(math.degrees(delta)))"
   ]
  },
  {
   "cell_type": "code",
   "execution_count": 2,
   "metadata": {},
   "outputs": [],
   "source": [
    "import numpy as np\n",
    "\n",
    "# equinoxes and solstices in 2020\n",
    "N = np.array([79, 171, 265, 355])"
   ]
  },
  {
   "cell_type": "code",
   "execution_count": 3,
   "metadata": {},
   "outputs": [
    {
     "name": "stdout",
     "output_type": "stream",
     "text": [
      "[ 79 171 265 355]\n",
      "4\n",
      "int64\n"
     ]
    }
   ],
   "source": [
    "print(N)\n",
    "print(N.size)\n",
    "print(N.dtype)"
   ]
  },
  {
   "cell_type": "code",
   "execution_count": 4,
   "metadata": {},
   "outputs": [
    {
     "name": "stdout",
     "output_type": "stream",
     "text": [
      "171\n",
      "171\n"
     ]
    }
   ],
   "source": [
    "print(N[1])\n",
    "print(N[-3])"
   ]
  },
  {
   "cell_type": "code",
   "execution_count": 5,
   "metadata": {},
   "outputs": [
    {
     "name": "stdout",
     "output_type": "stream",
     "text": [
      "[ -0.9055077   23.43035419  -0.41950731 -23.43978827]\n"
     ]
    }
   ],
   "source": [
    "delta = -np.arcsin(math.sin(ecl)*np.cos(omega*(N+10)))\n",
    "print(np.degrees(delta))"
   ]
  },
  {
   "cell_type": "code",
   "execution_count": 6,
   "metadata": {},
   "outputs": [
    {
     "name": "stdout",
     "output_type": "stream",
     "text": [
      "[ 89 181 275 365]\n",
      "int64\n",
      "[1.53105764 3.11372396 4.73079608 6.27905661]\n",
      "float64\n",
      "[ 0.01580343 -0.39763404  0.00732172  0.39778512]\n",
      "[ -0.9055077   23.43035419  -0.41950731 -23.43978827]\n"
     ]
    }
   ],
   "source": [
    "# add 10 to each element of N\n",
    "tmp = N+10\n",
    "print(tmp)\n",
    "print(tmp.dtype)\n",
    "\n",
    "# multipy by omega\n",
    "tmp = omega*tmp\n",
    "print(tmp)\n",
    "print(tmp.dtype)\n",
    "\n",
    "# calculate the cosine of each element in the resulting array \n",
    "# and multipy by the sine of the obliquity\n",
    "tmp = math.sin(ecl)*np.cos(tmp)\n",
    "print(tmp)\n",
    "\n",
    "# calculate negative arcsine of each element\n",
    "delta = -np.arcsin(tmp)\n",
    "print(np.degrees(delta))"
   ]
  },
  {
   "cell_type": "code",
   "execution_count": 7,
   "metadata": {},
   "outputs": [
    {
     "name": "stdout",
     "output_type": "stream",
     "text": [
      "Traceback \u001b[1;36m(most recent call last)\u001b[0m:\n",
      "  File \u001b[0;32m\"/tmp/ipykernel_214/3531311969.py\"\u001b[0m, line \u001b[0;32m1\u001b[0m, in \u001b[0;35m<module>\u001b[0m\n",
      "    delta = -np.asin(tmp) # arcsine in numpy has a different identifier than in math module!\n",
      "\u001b[1;36m  File \u001b[1;32m\"/opt/conda/lib/python3.8/site-packages/numpy/__init__.py\"\u001b[1;36m, line \u001b[1;32m303\u001b[1;36m, in \u001b[1;35m__getattr__\u001b[1;36m\u001b[0m\n",
      "\u001b[1;33m    raise AttributeError(\"module {!r} has no attribute \"\u001b[0m\n",
      "\u001b[1;31mAttributeError\u001b[0m\u001b[1;31m:\u001b[0m module 'numpy' has no attribute 'asin'\n",
      "\n",
      "Use %tb to get the full traceback.\n"
     ]
    },
    {
     "data": {
      "text/html": [
       "\n",
       "<style>\n",
       ".button {\n",
       "  border: none;\n",
       "  color: white;\n",
       "  padding: 4px 8px;\n",
       "  text-align: center;\n",
       "  text-decoration: none;\n",
       "  display: inline-block;\n",
       "  font-size: 12px;\n",
       "  margin: 4px 2px;\n",
       "  transition-duration: 0.2s;\n",
       "  cursor: pointer;\n",
       "}\n",
       ".iqx-button {\n",
       "  background-color: #0f62fe; \n",
       "  color: white; \n",
       "}\n",
       ".iqx-button:hover {\n",
       "  background-color: #0043ce;\n",
       "  color: white;\n",
       "}\n",
       "</style>\n",
       "<a href=\"https://stackoverflow.com/search?q=AttributeError: module 'numpy' has no attribute 'asin'\" target='_blank'><button class='button iqx-button'>Search for solution online</button></a>\n"
      ],
      "text/plain": [
       "<IPython.core.display.HTML object>"
      ]
     },
     "metadata": {},
     "output_type": "display_data"
    }
   ],
   "source": [
    "delta = -np.asin(tmp) # arcsine in numpy has a different identifier than in math module!"
   ]
  },
  {
   "cell_type": "code",
   "execution_count": 8,
   "metadata": {},
   "outputs": [
    {
     "name": "stdout",
     "output_type": "stream",
     "text": [
      "declination = 23.43 deg\n"
     ]
    }
   ],
   "source": [
    "print(\"declination = {:.2f} deg\".\\\n",
    "      format(math.degrees(delta[1])))"
   ]
  },
  {
   "cell_type": "code",
   "execution_count": 9,
   "metadata": {},
   "outputs": [
    {
     "name": "stdout",
     "output_type": "stream",
     "text": [
      "declination =  -0.91 deg\n",
      "declination =  23.43 deg\n",
      "declination =  -0.42 deg\n",
      "declination = -23.44 deg\n"
     ]
    }
   ],
   "source": [
    "for val in delta:\n",
    "    print(\"declination = {:6.2f} deg\".format(math.degrees(val)))"
   ]
  },
  {
   "cell_type": "code",
   "execution_count": 10,
   "metadata": {},
   "outputs": [
    {
     "name": "stdout",
     "output_type": "stream",
     "text": [
      "i  day  delta [deg]\n",
      "0   79     -0.91\n",
      "1  171     23.43\n",
      "2  265     -0.42\n",
      "3  355    -23.44\n"
     ]
    }
   ],
   "source": [
    "print(\"i  day  delta [deg]\")\n",
    "for i,val in enumerate(delta):\n",
    "    print(\"{1:d}  {2:3d}  {0:8.2f}\".format(math.degrees(val),i,N[i]))"
   ]
  },
  {
   "cell_type": "code",
   "execution_count": 11,
   "metadata": {},
   "outputs": [
    {
     "name": "stdout",
     "output_type": "stream",
     "text": [
      "day  delta [deg]\n",
      " 79     -0.91\n",
      "171     23.43\n",
      "265     -0.42\n",
      "355    -23.44\n"
     ]
    }
   ],
   "source": [
    "print(\"day  delta [deg]\")\n",
    "for row in zip(N,delta):\n",
    "    print(\"{0:3d}  {1:8.2f}\".\n",
    "          format(row[0],math.degrees(row[1])))"
   ]
  },
  {
   "cell_type": "markdown",
   "metadata": {},
   "source": [
    "Each row is a tuple:"
   ]
  },
  {
   "cell_type": "code",
   "execution_count": 12,
   "metadata": {},
   "outputs": [
    {
     "name": "stdout",
     "output_type": "stream",
     "text": [
      "(79, -0.01580409076383853)\n",
      "(171, 0.40893682550286947)\n",
      "(265, -0.007321783769611206)\n",
      "(355, -0.4091014813515704)\n"
     ]
    }
   ],
   "source": [
    "for row in zip(N,delta):\n",
    "    print(row)"
   ]
  },
  {
   "cell_type": "markdown",
   "metadata": {},
   "source": [
    "### Diurnal arc"
   ]
  },
  {
   "cell_type": "markdown",
   "metadata": {},
   "source": [
    "Detailed documentation of coordinate systems in Astropy: [docs.astropy.org/en/stable/coordinates/](https://docs.astropy.org/en/stable/coordinates/)"
   ]
  },
  {
   "cell_type": "markdown",
   "metadata": {},
   "source": [
    "#### Betelgeuse"
   ]
  },
  {
   "cell_type": "code",
   "execution_count": 13,
   "metadata": {
    "scrolled": true
   },
   "outputs": [
    {
     "name": "stdout",
     "output_type": "stream",
     "text": [
      "<SkyCoord (ICRS): (ra, dec) in deg\n",
      "    (88.79293899, 7.407064)>\n"
     ]
    }
   ],
   "source": [
    "from astropy.coordinates import SkyCoord, EarthLocation\n",
    "\n",
    "betelgeuse = SkyCoord.from_name('Betelgeuse')\n",
    "print(betelgeuse)"
   ]
  },
  {
   "cell_type": "code",
   "execution_count": 14,
   "metadata": {},
   "outputs": [
    {
     "name": "stdout",
     "output_type": "stream",
     "text": [
      "7d24m25.4304s\n"
     ]
    }
   ],
   "source": [
    "delta = betelgeuse.dec\n",
    "print(delta)"
   ]
  },
  {
   "cell_type": "code",
   "execution_count": 15,
   "metadata": {},
   "outputs": [],
   "source": [
    "import astropy.units as u\n",
    "\n",
    "# geographical position of the observer\n",
    "obs = EarthLocation(lat=53*u.deg+28*u.arcmin+49*u.arcsec, \n",
    "                    lon=10*u.deg+14*u.arcmin+23*u.arcsec)\n",
    "             \n",
    "# get latitude    \n",
    "phi = obs.lat"
   ]
  },
  {
   "cell_type": "code",
   "execution_count": 16,
   "metadata": {},
   "outputs": [],
   "source": [
    "import math\n",
    "\n",
    "h = math.acos(-math.tan(delta.radian) * \n",
    "              math.tan(phi.radian))"
   ]
  },
  {
   "cell_type": "code",
   "execution_count": 17,
   "metadata": {},
   "outputs": [
    {
     "name": "stdout",
     "output_type": "stream",
     "text": [
      "T = 13.31 h\n"
     ]
    }
   ],
   "source": [
    "T = (math.degrees(2*h)/360)*u.sday\n",
    "print(\"T = {:.2f}\".format(T.to(u.h)))"
   ]
  },
  {
   "cell_type": "markdown",
   "metadata": {},
   "source": [
    "#### Annual variation of day length"
   ]
  },
  {
   "cell_type": "code",
   "execution_count": 18,
   "metadata": {},
   "outputs": [],
   "source": [
    "import numpy as np\n",
    "\n",
    "N = np.arange(365) # array with elements 0,1,2,...,364\n",
    "omega = 2*math.pi/365.24 # Earth's angular velocity in rad/day\n",
    "ecl = math.radians(23.44) # obliquity of the ecliptic\n",
    "\n",
    "# calculate declination of the Sun for all days of the year\n",
    "delta = -np.arcsin(math.sin(ecl)*np.cos(omega*(N+10)))"
   ]
  },
  {
   "cell_type": "code",
   "execution_count": 19,
   "metadata": {},
   "outputs": [],
   "source": [
    "# calculate day length in solar hours\n",
    "h = np.arccos(-np.tan(delta)*math.tan(phi.radian))\n",
    "T = (np.degrees(2*h)/360) * u.sday.to(u.h) "
   ]
  },
  {
   "cell_type": "code",
   "execution_count": 20,
   "metadata": {},
   "outputs": [
    {
     "name": "stdout",
     "output_type": "stream",
     "text": [
      "day 0: declination = -23.07 deg, T = 7.30 h\n"
     ]
    }
   ],
   "source": [
    "# inspect single element\n",
    "i = 0\n",
    "print(\"day {0:d}: declination = {1:.2f} deg, T = {2:.2f} h\".\\\n",
    "      format(N[i],math.degrees(delta[i]),T[i]))"
   ]
  },
  {
   "cell_type": "code",
   "execution_count": 21,
   "metadata": {
    "scrolled": true
   },
   "outputs": [
    {
     "data": {
      "image/png": "[encoded data removed]",
      "text/plain": [
       "<Figure size 432x288 with 1 Axes>"
      ]
     },
     "metadata": {
      "needs_background": "light"
     },
     "output_type": "display_data"
    }
   ],
   "source": [
    "import matplotlib.pyplot as plt\n",
    "%matplotlib inline \n",
    "\n",
    "plt.plot(N, T)\n",
    "plt.xlabel(\"Day\")\n",
    "plt.ylabel(\"Day length [hr]\")\n",
    "plt.savefig(\"daylength.pdf\")"
   ]
  },
  {
   "cell_type": "code",
   "execution_count": 22,
   "metadata": {},
   "outputs": [
    {
     "name": "stdout",
     "output_type": "stream",
     "text": [
      "Minimum day length =  7.20 h\n",
      "Maximum day length = 16.73 h\n"
     ]
    }
   ],
   "source": [
    "print(\"Minimum day length = {:5.2f} h\".format(T.min()))\n",
    "print(\"Maximum day length = {:5.2f} h\".format(T.max()))"
   ]
  },
  {
   "cell_type": "code",
   "execution_count": 23,
   "metadata": {},
   "outputs": [],
   "source": [
    "phi = math.radians(78+13/60) # latitude of Longyearbyen"
   ]
  },
  {
   "cell_type": "code",
   "execution_count": 24,
   "metadata": {},
   "outputs": [
    {
     "name": "stderr",
     "output_type": "stream",
     "text": [
      "/tmp/ipykernel_214/1004643983.py:2: RuntimeWarning: invalid value encountered in arccos\n",
      "  h = np.arccos(-np.tan(delta)*math.tan(phi))\n"
     ]
    }
   ],
   "source": [
    "# calculate day length in solar hours for all days of the year\n",
    "h = np.arccos(-np.tan(delta)*math.tan(phi))\n",
    "T = (np.degrees(2*h)/360)*u.sday.to(u.h)"
   ]
  },
  {
   "cell_type": "code",
   "execution_count": 25,
   "metadata": {},
   "outputs": [],
   "source": [
    "tmp = np.clip(-np.tan(delta)*math.tan(phi), -1.0, 1.0)\n",
    "h = np.arccos(tmp)\n",
    "T = (np.degrees(2*h)/360)*u.sday.to(u.h)"
   ]
  },
  {
   "cell_type": "code",
   "execution_count": 26,
   "metadata": {},
   "outputs": [
    {
     "data": {
      "text/plain": [
       "Text(0, 0.5, 'Day length [hr]')"
      ]
     },
     "execution_count": 26,
     "metadata": {},
     "output_type": "execute_result"
    },
    {
     "data": {
      "image/png": "[encoded data removed]",
      "text/plain": [
       "<Figure size 432x288 with 1 Axes>"
      ]
     },
     "metadata": {
      "needs_background": "light"
     },
     "output_type": "display_data"
    }
   ],
   "source": [
    "plt.plot(N, T)\n",
    "plt.xlabel(\"Day\")\n",
    "plt.ylabel(\"Day length [hr]\")"
   ]
  },
  {
   "cell_type": "code",
   "execution_count": 27,
   "metadata": {},
   "outputs": [],
   "source": [
    "phi = { 'Hamburg'      : obs.lat.radian,\n",
    "        'Longyearbyen' : math.radians(78 + 13/60) }"
   ]
  },
  {
   "cell_type": "code",
   "execution_count": 28,
   "metadata": {},
   "outputs": [
    {
     "name": "stdout",
     "output_type": "stream",
     "text": [
      "0.9334069321033784\n"
     ]
    }
   ],
   "source": [
    "print(phi['Hamburg'])"
   ]
  },
  {
   "cell_type": "code",
   "execution_count": 29,
   "metadata": {},
   "outputs": [],
   "source": [
    "phi['New York'] = math.radians(40 + 43/60)\n",
    "phi['Bangkok']  = math.radians(13 + 45/60)"
   ]
  },
  {
   "cell_type": "code",
   "execution_count": 30,
   "metadata": {},
   "outputs": [
    {
     "name": "stdout",
     "output_type": "stream",
     "text": [
      "4\n"
     ]
    }
   ],
   "source": [
    "print(len(phi))"
   ]
  },
  {
   "cell_type": "code",
   "execution_count": 31,
   "metadata": {},
   "outputs": [
    {
     "name": "stdout",
     "output_type": "stream",
     "text": [
      "Hamburg: 53.48 deg\n",
      "Longyearbyen: 78.22 deg\n",
      "New York: 40.72 deg\n",
      "Bangkok: 13.75 deg\n"
     ]
    },
    {
     "data": {
      "image/png": "[encoded data removed]",
      "text/plain": [
       "<Figure size 432x288 with 1 Axes>"
      ]
     },
     "metadata": {
      "needs_background": "light"
     },
     "output_type": "display_data"
    }
   ],
   "source": [
    "for key in phi:\n",
    "    print(key + \": {:.2f} deg\".format(math.degrees(phi[key])))\n",
    "    \n",
    "    h = np.arccos(np.clip(-np.tan(delta)*math.tan(phi[key]),\n",
    "                          -1.0, 1.0))\n",
    "    T = (np.degrees(2*h)/360) * u.sday.to(u.h)\n",
    "    \n",
    "    plt.plot(N, T, label=key)\n",
    "   \n",
    "plt.xlabel(\"Day\")\n",
    "plt.xlim(0,364)\n",
    "plt.ylabel(\"Day length [hr]\")\n",
    "plt.ylim(0,24)\n",
    "plt.legend(loc='upper right')\n",
    "plt.savefig(\"daylength.pdf\")"
   ]
  },
  {
   "cell_type": "markdown",
   "metadata": {},
   "source": [
    "### Observing Betelgeuse"
   ]
  },
  {
   "cell_type": "code",
   "execution_count": 32,
   "metadata": {},
   "outputs": [],
   "source": [
    "import astropy.units as u\n",
    "from astropy.coordinates import SkyCoord, EarthLocation,\\\n",
    "    AltAz, get_sun\n",
    "\n",
    "# geographical position of the observer\n",
    "obs = EarthLocation(lat=53*u.deg+28*u.arcmin+49*u.arcsec, \n",
    "                    lon=10*u.deg+14*u.arcmin+23*u.arcsec)\n",
    "             \n",
    "# get latitude    \n",
    "phi = obs.lat"
   ]
  },
  {
   "cell_type": "code",
   "execution_count": 33,
   "metadata": {},
   "outputs": [
    {
     "name": "stdout",
     "output_type": "stream",
     "text": [
      "2020-07-31 10:00:00.000\n"
     ]
    }
   ],
   "source": [
    "from astropy.time import Time\n",
    "\n",
    "utc_shift = 2*u.hour  # CEST time zone (+2h)\n",
    "\n",
    "noon_cest = Time(\"2020-07-31 12:00:00\") - utc_shift\n",
    "print(noon_cest)"
   ]
  },
  {
   "cell_type": "code",
   "execution_count": 34,
   "metadata": {},
   "outputs": [],
   "source": [
    "import numpy as np\n",
    "\n",
    "# time array covering next 24 hours in steps of 5 min\n",
    "elapsed = np.arange(0, 24*60, 5)*u.min\n",
    "time = noon_cest + elapsed\n",
    "\n",
    "# sequence of horizontal frames\n",
    "frame_local_24h = AltAz(obstime=time, location=obs)"
   ]
  },
  {
   "cell_type": "code",
   "execution_count": 35,
   "metadata": {},
   "outputs": [
    {
     "data": {
      "text/plain": [
       "numpy.ndarray"
      ]
     },
     "execution_count": 35,
     "metadata": {},
     "output_type": "execute_result"
    }
   ],
   "source": [
    "type(np.arange(0, 24*60, 5))"
   ]
  },
  {
   "cell_type": "code",
   "execution_count": 36,
   "metadata": {},
   "outputs": [
    {
     "data": {
      "text/plain": [
       "astropy.units.quantity.Quantity"
      ]
     },
     "execution_count": 36,
     "metadata": {},
     "output_type": "execute_result"
    }
   ],
   "source": [
    "type(elapsed)"
   ]
  },
  {
   "cell_type": "code",
   "execution_count": 37,
   "metadata": {},
   "outputs": [
    {
     "data": {
      "text/plain": [
       "True"
      ]
     },
     "execution_count": 37,
     "metadata": {},
     "output_type": "execute_result"
    }
   ],
   "source": [
    "# is instance of type\n",
    "isinstance(elapsed, u.quantity.Quantity)"
   ]
  },
  {
   "cell_type": "code",
   "execution_count": 38,
   "metadata": {},
   "outputs": [
    {
     "data": {
      "text/plain": [
       "True"
      ]
     },
     "execution_count": 38,
     "metadata": {},
     "output_type": "execute_result"
    }
   ],
   "source": [
    "# is instance of base class\n",
    "isinstance(elapsed, np.ndarray)"
   ]
  },
  {
   "cell_type": "code",
   "execution_count": 39,
   "metadata": {},
   "outputs": [
    {
     "data": {
      "text/plain": [
       "astropy.time.core.Time"
      ]
     },
     "execution_count": 39,
     "metadata": {},
     "output_type": "execute_result"
    }
   ],
   "source": [
    "type(time)"
   ]
  },
  {
   "cell_type": "code",
   "execution_count": 40,
   "metadata": {},
   "outputs": [
    {
     "data": {
      "text/plain": [
       "False"
      ]
     },
     "execution_count": 40,
     "metadata": {},
     "output_type": "execute_result"
    }
   ],
   "source": [
    "isinstance(time, np.ndarray)"
   ]
  },
  {
   "cell_type": "code",
   "execution_count": 41,
   "metadata": {},
   "outputs": [
    {
     "name": "stdout",
     "output_type": "stream",
     "text": [
      "Traceback \u001b[1;36m(most recent call last)\u001b[0m:\n",
      "\u001b[1;36m  File \u001b[1;32m\"/tmp/ipykernel_214/2191730828.py\"\u001b[1;36m, line \u001b[1;32m3\u001b[1;36m, in \u001b[1;35m<module>\u001b[1;36m\u001b[0m\n",
      "\u001b[1;33m    isinstance(time, astropy.utils.misc.ShapedLikeNDArray)\u001b[0m\n",
      "\u001b[1;31mAttributeError\u001b[0m\u001b[1;31m:\u001b[0m module 'astropy.utils.misc' has no attribute 'ShapedLikeNDArray'\n",
      "\n",
      "Use %tb to get the full traceback.\n"
     ]
    },
    {
     "data": {
      "text/html": [
       "\n",
       "<style>\n",
       ".button {\n",
       "  border: none;\n",
       "  color: white;\n",
       "  padding: 4px 8px;\n",
       "  text-align: center;\n",
       "  text-decoration: none;\n",
       "  display: inline-block;\n",
       "  font-size: 12px;\n",
       "  margin: 4px 2px;\n",
       "  transition-duration: 0.2s;\n",
       "  cursor: pointer;\n",
       "}\n",
       ".iqx-button {\n",
       "  background-color: #0f62fe; \n",
       "  color: white; \n",
       "}\n",
       ".iqx-button:hover {\n",
       "  background-color: #0043ce;\n",
       "  color: white;\n",
       "}\n",
       "</style>\n",
       "<a href=\"https://stackoverflow.com/search?q=AttributeError: module 'astropy.utils.misc' has no attribute 'ShapedLikeNDArray'\" target='_blank'><button class='button iqx-button'>Search for solution online</button></a>\n"
      ],
      "text/plain": [
       "<IPython.core.display.HTML object>"
      ]
     },
     "metadata": {},
     "output_type": "display_data"
    }
   ],
   "source": [
    "import astropy.utils.misc\n",
    "\n",
    "isinstance(time, astropy.utils.misc.ShapedLikeNDArray)"
   ]
  },
  {
   "cell_type": "code",
   "execution_count": 42,
   "metadata": {},
   "outputs": [],
   "source": [
    "# star we want to observe\n",
    "betelgeuse = SkyCoord.from_name('Betelgeuse')\n",
    "\n",
    "betelgeuse_local = betelgeuse.transform_to(frame_local_24h)"
   ]
  },
  {
   "cell_type": "code",
   "execution_count": 43,
   "metadata": {},
   "outputs": [],
   "source": [
    "sun = get_sun(time)\n",
    "\n",
    "sun_local = sun.transform_to(frame_local_24h)"
   ]
  },
  {
   "cell_type": "code",
   "execution_count": 44,
   "metadata": {},
   "outputs": [
    {
     "data": {
      "image/png": "[encoded data removed]",
      "text/plain": [
       "<Figure size 432x288 with 1 Axes>"
      ]
     },
     "metadata": {
      "needs_background": "light"
     },
     "output_type": "display_data"
    }
   ],
   "source": [
    "import matplotlib.pyplot as plt\n",
    "%matplotlib inline \n",
    "\n",
    "elapsed_night = elapsed[np.where(sun_local.alt < 0)]\n",
    "betelgeuse_night = betelgeuse_local.alt[np.where(sun_local.alt < 0)]\n",
    "\n",
    "plt.plot(elapsed.to(u.h), sun_local.alt, \n",
    "         color='orange', label='Sun')\n",
    "plt.plot(elapsed_night.to(u.h), betelgeuse_night, \n",
    "         color='red', label='Betelgeuse (night)')\n",
    "plt.plot(elapsed.to(u.h), betelgeuse_local.alt, \n",
    "         color='red', linestyle=':', label='Betelgeuse (daylight)')\n",
    "\n",
    "plt.xlabel('Time from noon [h]')\n",
    "plt.xlim(0, 24)\n",
    "plt.xticks(np.arange(13)*2)\n",
    "plt.ylim(0, 60)\n",
    "plt.ylabel('Altitude [deg]')\n",
    "plt.legend(loc='upper center')\n",
    "plt.savefig(\"Betelgeuse_obs_window.pdf\")"
   ]
  },
  {
   "cell_type": "markdown",
   "metadata": {},
   "source": [
    "See [docs.astropy.org/en/stable/generated/examples/coordinates/plot_obs-planning.html](https://docs.astropy.org/en/stable/generated/examples/coordinates/plot_obs-planning.html#) for a similar example. "
   ]
  },
  {
   "cell_type": "markdown",
   "metadata": {},
   "source": [
    "## Kepler's laws of planetary motion"
   ]
  },
  {
   "cell_type": "code",
   "execution_count": 45,
   "metadata": {},
   "outputs": [
    {
     "name": "stdout",
     "output_type": "stream",
     "text": [
      "T [yr]  dev [hr] dev rel.\n",
      "  0.24   0.0002  8.3e-08\n",
      "  0.62   0.0066  1.2e-06\n",
      "  1.00   0.0132  1.5e-06\n",
      "  1.88   0.0027  1.6e-07\n",
      " 11.88  49.6     4.8e-04\n",
      " 29.68  37.2     1.4e-04\n",
      " 84.20  16.1     2.2e-05\n",
      "164.82  37.2     2.6e-05\n"
     ]
    }
   ],
   "source": [
    "import math\n",
    "import numpy as np\n",
    "from scipy.constants import year,hour,au,G\n",
    "from astropy.constants import M_sun\n",
    "\n",
    "M = M_sun.value # mass of the Sun in kg\n",
    "\n",
    "# orbital parameters of planets \n",
    "# see https://nssdc.gsfc.nasa.gov/planetary/factsheet/\n",
    "# mass in kg\n",
    "m = 1e24*np.array([0.33011, 4.8675, 5.9723, 0.64171,\\\n",
    "                   1898.19, 568.34, 86.813, 102.413])\n",
    "# semi-major axis in m\n",
    "a = 1e9*np.array([57.9, 108.21, 149.60, 227.92,\\\n",
    "                  778.57, 1433.53, 2872.46, 4495.06])\n",
    "              \n",
    "# use Kepler's third law to calculate period in s\n",
    "T_test_mass = 2*math.pi * (G*M)**(-1/2) * a**(3/2)\n",
    "T_two_body = 2*math.pi * (G*(M + m))**(-1/2) * a**(3/2)\n",
    "\n",
    "print(\"T [yr]  dev [hr] dev rel.\")\n",
    "for val1,val2 in zip(T_test_mass,T_two_body):\n",
    "    dev = val1 - val2\n",
    "    if dev > hour:\n",
    "        line = \"{0:6.2f}  {1:<7.1f}  {2:.1e}\"\n",
    "    else:\n",
    "        line = \"{0:6.2f}  {1:7.4f}  {2:.1e}\"\n",
    "    print(line.format(val2/year, dev/hour, dev/val1))"
   ]
  },
  {
   "cell_type": "code",
   "execution_count": 46,
   "metadata": {},
   "outputs": [
    {
     "data": {
      "image/png": "[encoded data removed]",
      "text/plain": [
       "<Figure size 432x288 with 1 Axes>"
      ]
     },
     "metadata": {
      "needs_background": "light"
     },
     "output_type": "display_data"
    }
   ],
   "source": [
    "import matplotlib.pyplot as plt\n",
    "%matplotlib inline \n",
    "\n",
    "plt.loglog(a/au, T_test_mass/year, 'blue', linestyle='--',\\\n",
    "           label='test mass')\n",
    "plt.loglog(a/au, T_two_body/year, 'ro', label='planets')\n",
    "plt.legend(loc='lower right')\n",
    "plt.xlabel(\"semi-major axis [AU]\")\n",
    "plt.ylabel(\"orbital period [yr]\")\n",
    "plt.savefig(\"kepler_third_law.pdf\")"
   ]
  },
  {
   "cell_type": "markdown",
   "metadata": {},
   "source": [
    "## Gravitational and tidal forces"
   ]
  },
  {
   "cell_type": "code",
   "execution_count": 47,
   "metadata": {},
   "outputs": [
    {
     "name": "stdout",
     "output_type": "stream",
     "text": [
      "tidal acceleration = 1.10e-06 m/s^2 = 1.12e-07 g\n",
      "size of tidal bulge = 0.67 m\n",
      "[-1.1 -1.  -0.9 -0.8 -0.7 -0.6 -0.5 -0.4 -0.3 -0.2 -0.1  0.   0.1  0.2\n",
      "  0.3  0.4  0.5  0.6  0.7  0.8  0.9  1.   1.1]\n",
      "(23, 23)\n",
      "6378100.0 0.0\n"
     ]
    }
   ],
   "source": [
    "import numpy as np\n",
    "from scipy.constants import g,G\n",
    "from astropy.constants import R_earth,M_earth\n",
    "\n",
    "M = 0.07346e24 # mass of the moon in kg\n",
    "r = 3.844e8 # semi-major axis of moon orbit in m\n",
    "\n",
    "coeff = G*M/r**3\n",
    "accel_scale = 2*coeff*R_earth.value\n",
    "print(\"tidal acceleration = {:.2e} m/s^2 = {:.2e} g\".\\\n",
    "      format(accel_scale,accel_scale/g))\n",
    "\n",
    "h = 15*M*R_earth.value**4/(8*M_earth.value*r**3)\n",
    "print(\"size of tidal bulge = {:.2f} m\".format(h))\n",
    "\n",
    "# array of evenly spaced grid points along x- and y-axis\n",
    "X = np.linspace(-1.1, 1.1, num=23, endpoint=True)\n",
    "Y = np.linspace(-1.1, 1.1, num=23, endpoint=True)\n",
    "print(X)\n",
    "\n",
    "# create two-dimensional mesh grid scaled by Earth radius\n",
    "R_x, R_y = np.meshgrid(R_earth.value*X, R_earth.value*Y)\n",
    "print(R_x.shape)\n",
    "print(R_x[11,21],R_y[11,21])\n",
    "\n",
    "# radial distances of mesh points from (0,0)\n",
    "R = np.sqrt(R_x*R_x + R_y*R_y)\n",
    "\n",
    "# components of tidal acceleration field within Earth radius\n",
    "accel_x = np.ma.masked_where(R > R_earth.value, 2*coeff*R_x)\n",
    "accel_y = np.ma.masked_where(R > R_earth.value, -coeff*R_y)"
   ]
  },
  {
   "cell_type": "code",
   "execution_count": 48,
   "metadata": {},
   "outputs": [
    {
     "data": {
      "text/plain": [
       "529"
      ]
     },
     "execution_count": 48,
     "metadata": {},
     "output_type": "execute_result"
    }
   ],
   "source": [
    "accel_x.size"
   ]
  },
  {
   "cell_type": "markdown",
   "metadata": {},
   "source": [
    "```R_x[11,21]``` and ```R_y[11,21]``` are given by the following to elements of ```X``` and ```Y```"
   ]
  },
  {
   "cell_type": "code",
   "execution_count": 49,
   "metadata": {},
   "outputs": [
    {
     "data": {
      "text/plain": [
       "6378100.0"
      ]
     },
     "execution_count": 49,
     "metadata": {},
     "output_type": "execute_result"
    }
   ],
   "source": [
    "X[21]*R_earth.value"
   ]
  },
  {
   "cell_type": "code",
   "execution_count": 50,
   "metadata": {},
   "outputs": [
    {
     "data": {
      "text/plain": [
       "0.0"
      ]
     },
     "execution_count": 50,
     "metadata": {},
     "output_type": "execute_result"
    }
   ],
   "source": [
    "Y[11]*R_earth.value"
   ]
  },
  {
   "cell_type": "code",
   "execution_count": 51,
   "metadata": {},
   "outputs": [
    {
     "data": {
      "image/png": "[encoded data removed]",
      "text/plain": [
       "<Figure size 600x600 with 1 Axes>"
      ]
     },
     "metadata": {
      "needs_background": "light"
     },
     "output_type": "display_data"
    }
   ],
   "source": [
    "import matplotlib.pyplot as plt\n",
    "from matplotlib.patches import Circle\n",
    "%matplotlib inline \n",
    "\n",
    "fig, ax = plt.subplots(figsize=(6,6),dpi=100)\n",
    "ax.set_aspect('equal')\n",
    "\n",
    "# plot vector field\n",
    "arrows = ax.quiver(X, Y, accel_x, accel_y, color='blue')\n",
    "ax.quiverkey(arrows, X=0.1, Y=0.95, U=accel_scale,\n",
    "             label=r'$1.1\\times 10^{-6}\\;\\mathrm{m/s}^2$', \n",
    "             labelpos='E')\n",
    "\n",
    "# add a circle\n",
    "circle = Circle((0, 0), 1, alpha=0.2, edgecolor=None)\n",
    "ax.add_patch(circle)\n",
    "\n",
    "ax.set_xlabel(r'$x/R_{\\mathrm{E}}$', fontsize=12)\n",
    "ax.set_ylabel(r'$y/R_{\\mathrm{E}}$', fontsize=12)\n",
    "\n",
    "plt.savefig(\"tidal_accel_earth.pdf\")"
   ]
  },
  {
   "cell_type": "code",
   "execution_count": null,
   "metadata": {},
   "outputs": [],
   "source": []
  }
 ],
 "metadata": {
  "kernelspec": {
   "display_name": "Qiskit v0.34.1 (ipykernel)",
   "language": "python",
   "name": "python3"
  },
  "language_info": {
   "codemirror_mode": {
    "name": "ipython",
    "version": 3
   },
   "file_extension": ".py",
   "mimetype": "text/x-python",
   "name": "python",
   "nbconvert_exporter": "python",
   "pygments_lexer": "ipython3",
   "version": "3.8.10"
  },
  "widgets": {
   "application/vnd.jupyter.widget-state+json": {
    "state": {},
    "version_major": 2,
    "version_minor": 0
   }
  }
 },
 "nbformat": 4,
 "nbformat_minor": 4
}
