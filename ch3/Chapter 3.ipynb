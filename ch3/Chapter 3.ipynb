{
 "cells": [
  {
   "cell_type": "markdown",
   "metadata": {},
   "source": [
    "# Chapter 3: Functions and Numerical Methods"
   ]
  },
  {
   "cell_type": "markdown",
   "metadata": {},
   "source": [
    "## Black body radiation"
   ]
  },
  {
   "cell_type": "markdown",
   "metadata": {},
   "source": [
    "### Stefan-Boltzmann law"
   ]
  },
  {
   "cell_type": "markdown",
   "metadata": {},
   "source": [
    "Definition of a Python function:"
   ]
  },
  {
   "cell_type": "code",
   "execution_count": 8,
   "metadata": {},
   "outputs": [
    {
     "name": "stdout",
     "output_type": "stream",
     "text": [
      "Requirement already satisfied: numpy in /srv/conda/envs/notebook/lib/python3.7/site-packages (1.21.4)\n",
      "Note: you may need to restart the kernel to use updated packages.\n"
     ]
    }
   ],
   "source": [
    "pip install numpy"
   ]
  },
  {
   "cell_type": "code",
   "execution_count": 9,
   "metadata": {},
   "outputs": [
    {
     "name": "stdout",
     "output_type": "stream",
     "text": [
      "Requirement already satisfied: astropy in /srv/conda/envs/notebook/lib/python3.7/site-packages (4.3.1)\n",
      "Requirement already satisfied: importlib-metadata in /srv/conda/envs/notebook/lib/python3.7/site-packages (from astropy) (4.8.2)\n",
      "Requirement already satisfied: pyerfa>=1.7.3 in /srv/conda/envs/notebook/lib/python3.7/site-packages (from astropy) (2.0.0.1)\n",
      "Requirement already satisfied: numpy>=1.17 in /srv/conda/envs/notebook/lib/python3.7/site-packages (from astropy) (1.21.4)\n",
      "Requirement already satisfied: zipp>=0.5 in /srv/conda/envs/notebook/lib/python3.7/site-packages (from importlib-metadata->astropy) (3.6.0)\n",
      "Requirement already satisfied: typing-extensions>=3.6.4 in /srv/conda/envs/notebook/lib/python3.7/site-packages (from importlib-metadata->astropy) (4.0.0)\n",
      "Note: you may need to restart the kernel to use updated packages.\n"
     ]
    }
   ],
   "source": [
    "pip install astropy"
   ]
  },
  {
   "cell_type": "code",
   "execution_count": 10,
   "metadata": {},
   "outputs": [],
   "source": [
    "from math import pi\n",
    "from scipy.constants import sigma # Stefan-Boltzmann constant\n",
    "\n",
    "def luminosity(R, Teff):\n",
    "    \"\"\"\n",
    "    computes luminosity of a star \n",
    "    using the Stefan-Boltzmann law\n",
    "\n",
    "    args: R - radius in m\n",
    "          Teff - effective temperature in K\n",
    "\n",
    "    returns: luminosity in W\n",
    "    \"\"\"\n",
    "    A = 4*pi*R**2 # local variable for surface area\n",
    "    return A * sigma * Teff**4"
   ]
  },
  {
   "cell_type": "code",
   "execution_count": 11,
   "metadata": {},
   "outputs": [
    {
     "name": "stdout",
     "output_type": "stream",
     "text": [
      "Help on function luminosity in module __main__:\n",
      "\n",
      "luminosity(R, Teff)\n",
      "    computes luminosity of a star \n",
      "    using the Stefan-Boltzmann law\n",
      "    \n",
      "    args: R - radius in m\n",
      "          Teff - effective temperature in K\n",
      "    \n",
      "    returns: luminosity in W\n",
      "\n"
     ]
    }
   ],
   "source": [
    "help(luminosity)"
   ]
  },
  {
   "cell_type": "markdown",
   "metadata": {},
   "source": [
    "Example: luminosity of the Sun"
   ]
  },
  {
   "cell_type": "code",
   "execution_count": 12,
   "metadata": {},
   "outputs": [
    {
     "name": "stdout",
     "output_type": "stream",
     "text": [
      "Solar luminosity:\n",
      "\t3.844e+26 W (Stefan-Boltzmann law)\n",
      "\t3.828e+26 W (IAU 2015 Resolution B 3)\n"
     ]
    }
   ],
   "source": [
    "from astropy.constants import R_sun, L_sun\n",
    "\n",
    "Teff_sun = 5778 # effective temperature of the Sun in K\n",
    "\n",
    "print(\"Solar luminosity:\")\n",
    "\n",
    "# compute luminosity of the Sun\n",
    "L_sun_sb = luminosity(R_sun.value, 5778)\n",
    "print(\"\\t{:.3e} W (Stefan-Boltzmann law)\".format(L_sun_sb))\n",
    "\n",
    "# solar luminosity from astropy\n",
    "print(\"\\t{:.3e} ({:s})\".format(L_sun,L_sun.reference)) "
   ]
  },
  {
   "cell_type": "markdown",
   "metadata": {},
   "source": [
    "```A``` is a local variable that is not defined outside of the function body"
   ]
  },
  {
   "cell_type": "code",
   "execution_count": 13,
   "metadata": {},
   "outputs": [
    {
     "ename": "NameError",
     "evalue": "name 'A' is not defined",
     "output_type": "error",
     "traceback": [
      "\u001b[0;31m---------------------------------------------------------------------------\u001b[0m",
      "\u001b[0;31mNameError\u001b[0m                                 Traceback (most recent call last)",
      "\u001b[0;32m<ipython-input-13-939330b76721>\u001b[0m in \u001b[0;36m<module>\u001b[0;34m\u001b[0m\n\u001b[0;32m----> 1\u001b[0;31m \u001b[0mprint\u001b[0m\u001b[0;34m(\u001b[0m\u001b[0mA\u001b[0m\u001b[0;34m)\u001b[0m\u001b[0;34m\u001b[0m\u001b[0;34m\u001b[0m\u001b[0m\n\u001b[0m",
      "\u001b[0;31mNameError\u001b[0m: name 'A' is not defined"
     ]
    }
   ],
   "source": [
    "print(A)"
   ]
  },
  {
   "cell_type": "markdown",
   "metadata": {},
   "source": [
    "Modified version using pyhical units implemented in Astropy:"
   ]
  },
  {
   "cell_type": "code",
   "execution_count": 14,
   "metadata": {},
   "outputs": [
    {
     "name": "stdout",
     "output_type": "stream",
     "text": [
      "\t3.844e+26 W (Stefan-Boltzmann law)\n"
     ]
    }
   ],
   "source": [
    "from math import pi\n",
    "from astropy.constants import R_sun, L_sun, sigma_sb\n",
    "import astropy.units as unit\n",
    "\n",
    "def luminosity(R, Teff):\n",
    "    \"\"\"\n",
    "    function computes luminosity of star \n",
    "    using the Stefan-Boltzmann law with units\n",
    "\n",
    "    args: dimensinoal variables based on astropy.units\n",
    "          R - radius\n",
    "          Teff - effective temperature\n",
    "\n",
    "    returns: luminosity\n",
    "    \"\"\"\n",
    "    A = 4*pi*R**2 # local variable for surface area\n",
    "    return sigma_sb * A * Teff**4\n",
    "\n",
    "Teff_sun = 5778*unit.K\n",
    "\n",
    "# compute luminosity from dimensional variables\n",
    "L_sun_sb = luminosity(R_sun, Teff_sun)\n",
    "print(\"\\t{:.3e} (Stefan-Boltzmann law)\".format(L_sun_sb))"
   ]
  },
  {
   "cell_type": "code",
   "execution_count": 15,
   "metadata": {},
   "outputs": [
    {
     "name": "stdout",
     "output_type": "stream",
     "text": [
      "\t3.844e+33 erg / s (Stefan-Boltzmann law)\n"
     ]
    }
   ],
   "source": [
    "# convert from W to erg/s\n",
    "print(\"\\t{:.3e} (Stefan-Boltzmann law)\".\\\n",
    "      format(L_sun_sb.to(unit.erg/unit.s)))"
   ]
  },
  {
   "cell_type": "code",
   "execution_count": 16,
   "metadata": {},
   "outputs": [
    {
     "name": "stdout",
     "output_type": "stream",
     "text": [
      "\t3.844e+26 W (Stefan-Boltzmann law)\n"
     ]
    }
   ],
   "source": [
    "# compute luminosity with solar radius in km\n",
    "L_sun_sb = luminosity(6.957e5*unit.km, Teff_sun)\n",
    "print(\"\\t{:.3e} (Stefan-Boltzmann law)\".format(L_sun_sb.to(unit.W)))"
   ]
  },
  {
   "cell_type": "markdown",
   "metadata": {},
   "source": [
    "Further examples"
   ]
  },
  {
   "cell_type": "code",
   "execution_count": 17,
   "metadata": {},
   "outputs": [
    {
     "name": "stdout",
     "output_type": "stream",
     "text": [
      "Luminosities of stars (relative to solar luminosity):\n",
      "\tBernard's Star  1.3e+24 W (3.3e-03) \n",
      "\tSirius A        9.9e+27 W (2.6e+01) \n",
      "\tSirius B        9.1e+24 W (2.4e-02) \n",
      "\tArcturus        7.5e+28 W (2.0e+02) \n",
      "\tBetelgeuse      4.8e+31 W (1.3e+05) \n"
     ]
    }
   ],
   "source": [
    "def stellar_parameters(*args):\n",
    "    '''\n",
    "    auxiliary function to create a dictionaries \n",
    "    of stellar parameters in SI units\n",
    "    \n",
    "    args: (radius, effective temperature)\n",
    "    '''\n",
    "    return { \"R\"    : args[0].to(unit.m), \n",
    "             \"Teff\" : args[1].to(unit.K) }\n",
    "\n",
    "# dictionary of some stars\n",
    "stars = {\n",
    "    'Bernard\\'s Star' : \n",
    "        stellar_parameters(0.196*R_sun, 3.13e3*unit.K),\n",
    "    'Sirius A' : \n",
    "        stellar_parameters(1.711*R_sun, 9.94e3*unit.K),\n",
    "    'Sirius B' : \n",
    "        stellar_parameters(5.8e3*unit.km, 2.48e4*unit.K),\n",
    "    'Arcturus' : \n",
    "        stellar_parameters(25.4*R_sun, 4.29e3*unit.K),\n",
    "    'Betelgeuse' : \n",
    "        stellar_parameters(6.4e8*unit.km, 3.59e3*unit.K) \n",
    "}\n",
    "\n",
    "print(\"Luminosities of stars (relative to solar luminosity):\")\n",
    "for name in stars:\n",
    "    stars[name]['L'] = \\\n",
    "        luminosity(stars[name]['R'], stars[name]['Teff'])\n",
    "    print(\"\\t{:15s} {:.1e} ({:.1e}) \".format(name, \\\n",
    "          stars[name]['L'], stars[name]['L']/L_sun))"
   ]
  },
  {
   "cell_type": "markdown",
   "metadata": {},
   "source": [
    "### Planck spectrum"
   ]
  },
  {
   "cell_type": "code",
   "execution_count": 18,
   "metadata": {},
   "outputs": [],
   "source": [
    "import numpy as np\n",
    "from scipy.constants import h,c,k\n",
    "\n",
    "def planck_spectrum(wavelength, T):\n",
    "    \"\"\"\n",
    "    function computes Planck spectrum of a black body\n",
    "\n",
    "    args: numpy arrays\n",
    "          wavelength - wavelength in m\n",
    "          T - temperature in K \n",
    "\n",
    "    returns: intensity in W/m^2/m/sr\n",
    "    \"\"\"\n",
    "    return 2*h*c**2 / (wavelength**5 * \\\n",
    "                       (np.exp(h*c/(wavelength*k*T)) - 1))"
   ]
  },
  {
   "cell_type": "code",
   "execution_count": 19,
   "metadata": {},
   "outputs": [],
   "source": [
    "import matplotlib.pyplot as plt\n",
    "from rgb_to_kelvin import convert_K_to_RGB\n",
    "%matplotlib inline"
   ]
  },
  {
   "cell_type": "code",
   "execution_count": 20,
   "metadata": {},
   "outputs": [],
   "source": [
    "# initialize array for temperatures\n",
    "T_sample = np.zeros(len(stars) + 1)\n",
    "\n",
    "# iterate over stellar temperatures in dictionary\n",
    "for i,key in enumerate(stars):\n",
    "    T_sample[i] = stars[key]['Teff'].value\n",
    "# add effective temperature of Sun as last element\n",
    "T_sample[-1] = 5778\n",
    "\n",
    "# sort temperatures\n",
    "T_sample = np.sort(T_sample)"
   ]
  },
  {
   "cell_type": "code",
   "execution_count": 21,
   "metadata": {},
   "outputs": [
    {
     "ename": "ZeroDivisionError",
     "evalue": "float division by zero",
     "output_type": "error",
     "traceback": [
      "\u001b[0;31m---------------------------------------------------------------------------\u001b[0m",
      "\u001b[0;31mZeroDivisionError\u001b[0m                         Traceback (most recent call last)",
      "\u001b[0;32m<ipython-input-21-558eae5288c8>\u001b[0m in \u001b[0;36m<module>\u001b[0;34m\u001b[0m\n\u001b[0;32m----> 1\u001b[0;31m \u001b[0mplanck_spectrum\u001b[0m\u001b[0;34m(\u001b[0m\u001b[0;36m0\u001b[0m\u001b[0;34m,\u001b[0m \u001b[0;36m5778\u001b[0m\u001b[0;34m)\u001b[0m\u001b[0;34m\u001b[0m\u001b[0;34m\u001b[0m\u001b[0m\n\u001b[0m",
      "\u001b[0;32m<ipython-input-18-847d576fef4f>\u001b[0m in \u001b[0;36mplanck_spectrum\u001b[0;34m(wavelength, T)\u001b[0m\n\u001b[1;32m     13\u001b[0m     \"\"\"\n\u001b[1;32m     14\u001b[0m     return 2*h*c**2 / (wavelength**5 * \\\n\u001b[0;32m---> 15\u001b[0;31m                        (np.exp(h*c/(wavelength*k*T)) - 1))\n\u001b[0m",
      "\u001b[0;31mZeroDivisionError\u001b[0m: float division by zero"
     ]
    }
   ],
   "source": [
    "planck_spectrum(0, 5778)"
   ]
  },
  {
   "cell_type": "code",
   "execution_count": 22,
   "metadata": {},
   "outputs": [],
   "source": [
    "# uniformly spaced grid of wavenumbers excluding zero\n",
    "n = 1000\n",
    "lambda_max = 2e-6\n",
    "wavelength = np.linspace(lambda_max/n, lambda_max, n)"
   ]
  },
  {
   "cell_type": "code",
   "execution_count": 23,
   "metadata": {},
   "outputs": [
    {
     "name": "stderr",
     "output_type": "stream",
     "text": [
      "/srv/conda/envs/notebook/lib/python3.7/site-packages/ipykernel_launcher.py:15: RuntimeWarning: overflow encountered in exp\n",
      "  from ipykernel import kernelapp as app\n",
      "/srv/conda/envs/notebook/lib/python3.7/site-packages/ipykernel_launcher.py:15: RuntimeWarning: overflow encountered in exp\n",
      "  from ipykernel import kernelapp as app\n",
      "/srv/conda/envs/notebook/lib/python3.7/site-packages/ipykernel_launcher.py:15: RuntimeWarning: overflow encountered in exp\n",
      "  from ipykernel import kernelapp as app\n",
      "/srv/conda/envs/notebook/lib/python3.7/site-packages/ipykernel_launcher.py:15: RuntimeWarning: overflow encountered in exp\n",
      "  from ipykernel import kernelapp as app\n",
      "/srv/conda/envs/notebook/lib/python3.7/site-packages/ipykernel_launcher.py:15: RuntimeWarning: overflow encountered in exp\n",
      "  from ipykernel import kernelapp as app\n"
     ]
    },
    {
     "data": {
      "image/png": "[encoded data removed]",
      "text/plain": [
       "<Figure size 600x400 with 1 Axes>"
      ]
     },
     "metadata": {
      "needs_background": "light"
     },
     "output_type": "display_data"
    }
   ],
   "source": [
    "plt.figure(figsize=(6,4), dpi=100)\n",
    "\n",
    "for T in T_sample:\n",
    "    # get RGB color corresponding to temperature\n",
    "    color = tuple([val/255 for val in convert_K_to_RGB(T)])\n",
    "    \n",
    "    # plot Planck spectrum (wavelength in nm, \n",
    "    # intensity in kW/m^2/nm/sr)\n",
    "    plt.semilogy(1e9*wavelength, \\\n",
    "                 1e-12*planck_spectrum(wavelength, T), \\\n",
    "                 color=color, label=\"{:.0f} K\".format(T))\n",
    "    \n",
    "plt.xlabel(\"$\\lambda$ [nm]\")\n",
    "plt.xlim(0,1e9*lambda_max)\n",
    "plt.ylabel(\"$B_\\lambda(T)$ \" + \\\n",
    "           \"[$\\mathrm{kW\\,m^{-2}\\,nm^{-1}\\, sr^{-1}}$]\")\n",
    "plt.ylim(0.1,5e4)\n",
    "plt.legend(loc=\"upper right\", fontsize=8)\n",
    "plt.savefig(\"planck_spectrum.pdf\")"
   ]
  },
  {
   "cell_type": "markdown",
   "metadata": {},
   "source": [
    "#### Wien displacement law and bisection algorithm"
   ]
  },
  {
   "cell_type": "code",
   "execution_count": 24,
   "metadata": {},
   "outputs": [],
   "source": [
    "import numpy as np"
   ]
  },
  {
   "cell_type": "code",
   "execution_count": 25,
   "metadata": {},
   "outputs": [],
   "source": [
    "def root_bisection(f, a, b, eps=1e-3, verbose=False):\n",
    "    \"\"\"\n",
    "    bisection algorithm for finding the root of a function f(x)\n",
    "\n",
    "    args: f - function f(x) \n",
    "          a - left endpoint of start interval\n",
    "          b - right endpoint of start interval\n",
    "          eps - tolerance\n",
    "          verbose - print additiontal information if true\n",
    "\n",
    "    returns: estimate of x for which f(x) = 0\n",
    "    \"\"\"\n",
    "    i = 0 # counter of number of iterations\n",
    "    \n",
    "    # iterate while separation of endpoints is greater than tolerance\n",
    "    while abs(b-a) > eps:\n",
    "        \n",
    "        if verbose:\n",
    "            print(f\"{a:6.3f} {f(a):10.3e}\",\n",
    "                  f\"{b:6.3f} {f(b):10.3e}\")\n",
    "\n",
    "        # new midpoint\n",
    "        x = 0.5*(a+b)\n",
    "\n",
    "        # determine which subinterval contains midpoint \n",
    "        # and reset endpoint\n",
    "        if f(a)*f(x) < 0:\n",
    "            b = x\n",
    "        else:\n",
    "            a = x\n",
    "\n",
    "        # increment counter\n",
    "        i += 1\n",
    "    \n",
    "    print(\"tolerance reached after {:d} iterations\".format(i)) \n",
    "    print(\"deviation: f(x) = {:.3e}\".format(f(x)))    \n",
    "\n",
    "    return x"
   ]
  },
  {
   "cell_type": "code",
   "execution_count": 26,
   "metadata": {},
   "outputs": [],
   "source": [
    "def quadratic(x):\n",
    "    return x**2 - x - 2"
   ]
  },
  {
   "cell_type": "code",
   "execution_count": 27,
   "metadata": {},
   "outputs": [
    {
     "name": "stdout",
     "output_type": "stream",
     "text": [
      " 0.000 -2.000e+00  5.000  1.800e+01\n",
      " 0.000 -2.000e+00  2.500  1.750e+00\n",
      " 1.250 -1.688e+00  2.500  1.750e+00\n",
      " 1.875 -3.594e-01  2.500  1.750e+00\n",
      " 1.875 -3.594e-01  2.188  5.977e-01\n",
      " 1.875 -3.594e-01  2.031  9.473e-02\n",
      " 1.953 -1.384e-01  2.031  9.473e-02\n",
      " 1.992 -2.338e-02  2.031  9.473e-02\n",
      " 1.992 -2.338e-02  2.012  3.529e-02\n",
      " 1.992 -2.338e-02  2.002  5.863e-03\n",
      " 1.997 -8.780e-03  2.002  5.863e-03\n",
      " 2.000 -1.465e-03  2.002  5.863e-03\n",
      " 2.000 -1.465e-03  2.001  2.198e-03\n",
      "tolerance reached after 13 iterations\n",
      "deviation: f(x) = 3.662e-04\n"
     ]
    },
    {
     "data": {
      "text/plain": [
       "2.0001220703125"
      ]
     },
     "execution_count": 27,
     "metadata": {},
     "output_type": "execute_result"
    }
   ],
   "source": [
    "root_bisection(quadratic, 0, 5, verbose=True)"
   ]
  },
  {
   "cell_type": "code",
   "execution_count": 28,
   "metadata": {},
   "outputs": [
    {
     "name": "stdout",
     "output_type": "stream",
     "text": [
      "-2.000  4.000e+00  0.000 -2.000e+00\n",
      "-1.000  0.000e+00  0.000 -2.000e+00\n",
      "-0.500 -1.250e+00  0.000 -2.000e+00\n",
      "-0.250 -1.688e+00  0.000 -2.000e+00\n",
      "-0.125 -1.859e+00  0.000 -2.000e+00\n",
      "-0.062 -1.934e+00  0.000 -2.000e+00\n",
      "-0.031 -1.968e+00  0.000 -2.000e+00\n",
      "-0.016 -1.984e+00  0.000 -2.000e+00\n",
      "-0.008 -1.992e+00  0.000 -2.000e+00\n",
      "-0.004 -1.996e+00  0.000 -2.000e+00\n",
      "-0.002 -1.998e+00  0.000 -2.000e+00\n",
      "tolerance reached after 11 iterations\n",
      "deviation: f(x) = -1.999e+00\n"
     ]
    },
    {
     "data": {
      "text/plain": [
       "-0.0009765625"
      ]
     },
     "execution_count": 28,
     "metadata": {},
     "output_type": "execute_result"
    }
   ],
   "source": [
    "root_bisection(quadratic, -2, 0, verbose=True)"
   ]
  },
  {
   "cell_type": "code",
   "execution_count": 29,
   "metadata": {},
   "outputs": [],
   "source": [
    "def root_bisection(f, a, b, eps=1e-3, verbose=False):\n",
    "    \"\"\"\n",
    "    improved bisection algorithm for finding the root of a function f(x)\n",
    "\n",
    "    args: f - function f(x) \n",
    "          a - left endpoint of start interval\n",
    "          b - right endpoint of start interval\n",
    "          eps - tolerance\n",
    "          verbose - print additiontal information if true\n",
    "\n",
    "    returns: estimate of x for which f(x) = 0\n",
    "    \"\"\"\n",
    "    i = 0 # counter of number of iterations\n",
    "    \n",
    "    # iterate while separation of endpoints is greater than tolerance\n",
    "    while abs(b-a) > eps:\n",
    "        \n",
    "        if verbose:\n",
    "            print(f\"{a:6.3f} {f(a):10.3e}\",\n",
    "                  f\"{b:6.3f} {f(b):10.3e}\")\n",
    "\n",
    "        # new midpoint\n",
    "        x = 0.5*(a+b)\n",
    "\n",
    "        # check if function crosses zero in left subinterval \n",
    "        # and reset endpoint  unless x is exact solution\n",
    "        if f(x) == 0:\n",
    "            print(\"found exact solution \" + \\\n",
    "                  \"after {:d} iteration(s)\".format(i+1))\n",
    "            return x\n",
    "        elif f(a)*f(x) < 0:\n",
    "            b = x\n",
    "        else:\n",
    "            a = x\n",
    "\n",
    "        # increment counter\n",
    "        i += 1\n",
    "    \n",
    "    print(\"tolerance reached after {:d} iterations\".format(i)) \n",
    "    print(\"deviation: f(x) = {:.3e}\".format(f(x)))    \n",
    "\n",
    "    return x"
   ]
  },
  {
   "cell_type": "code",
   "execution_count": 30,
   "metadata": {},
   "outputs": [
    {
     "name": "stdout",
     "output_type": "stream",
     "text": [
      "tolerance reached after 13 iterations\n",
      "deviation: f(x) = 3.662e-04\n"
     ]
    },
    {
     "data": {
      "text/plain": [
       "2.0001220703125"
      ]
     },
     "execution_count": 30,
     "metadata": {},
     "output_type": "execute_result"
    }
   ],
   "source": [
    "root_bisection(quadratic, 0, 5)"
   ]
  },
  {
   "cell_type": "code",
   "execution_count": 31,
   "metadata": {},
   "outputs": [
    {
     "name": "stdout",
     "output_type": "stream",
     "text": [
      "found exact solution after 1 iteration(s)\n"
     ]
    },
    {
     "data": {
      "text/plain": [
       "-1.0"
      ]
     },
     "execution_count": 31,
     "metadata": {},
     "output_type": "execute_result"
    }
   ],
   "source": [
    "root_bisection(quadratic, -2, 0)"
   ]
  },
  {
   "cell_type": "code",
   "execution_count": 32,
   "metadata": {},
   "outputs": [
    {
     "name": "stdout",
     "output_type": "stream",
     "text": [
      "tolerance reached after 23 iterations\n",
      "deviation: f(x) = -3.576e-07\n"
     ]
    },
    {
     "data": {
      "text/plain": [
       "1.9999998807907104"
      ]
     },
     "execution_count": 32,
     "metadata": {},
     "output_type": "execute_result"
    }
   ],
   "source": [
    "root_bisection(quadratic, 0, 5, 1e-6)"
   ]
  },
  {
   "cell_type": "code",
   "execution_count": 33,
   "metadata": {},
   "outputs": [
    {
     "name": "stdout",
     "output_type": "stream",
     "text": [
      "tolerance reached after 14 iterations\n",
      "deviation: f(x) = 1.099e-03\n"
     ]
    },
    {
     "data": {
      "text/plain": [
       "-1.0003662109375"
      ]
     },
     "execution_count": 33,
     "metadata": {},
     "output_type": "execute_result"
    }
   ],
   "source": [
    "root_bisection(quadratic, -5, 5)"
   ]
  },
  {
   "cell_type": "code",
   "execution_count": 34,
   "metadata": {},
   "outputs": [
    {
     "data": {
      "text/plain": [
       "[<matplotlib.lines.Line2D at 0x7fcaa3606e50>]"
      ]
     },
     "execution_count": 34,
     "metadata": {},
     "output_type": "execute_result"
    },
    {
     "data": {
      "image/png": "[encoded data removed]",
      "text/plain": [
       "<Figure size 432x288 with 1 Axes>"
      ]
     },
     "metadata": {
      "needs_background": "light"
     },
     "output_type": "display_data"
    }
   ],
   "source": [
    "x = np.arange(-5,5,0.1)\n",
    "plt.plot(x, quadratic(x))"
   ]
  },
  {
   "cell_type": "code",
   "execution_count": 35,
   "metadata": {},
   "outputs": [],
   "source": [
    "def root_bisection(f, a, b, roots, eps=1e-3):\n",
    "    \"\"\"\n",
    "    recursive bisection algorithm for finding multiple roots\n",
    "    of a function f(x)\n",
    "\n",
    "    args: f - function f(x) \n",
    "          a - left endpoint of start interval\n",
    "          b - right endpoint of start interval\n",
    "          roots - numpy array of roots\n",
    "          eps - tolerance\n",
    "      \n",
    "    returns: estimate of x for which f(x) = 0\n",
    "    \"\"\"    \n",
    "    # midpoint\n",
    "    x = 0.5*(a+b)\n",
    "        \n",
    "    # break recursion if x is an exact solution\n",
    "    if f(x) == 0:\n",
    "        roots = np.append(roots, x)\n",
    "        print(\"found {:d}. solution (exact)\".\n",
    "              format(len(roots)))\n",
    "    # break recursion if tolerance is reached\n",
    "    elif abs(b-a) <= eps:\n",
    "        roots = np.append(roots, x)\n",
    "        print(\"found {:d}. solution,\".format(len(roots)),\n",
    "              \"deviation f(x) = {:6e}\".format(f(x)))\n",
    "    # continue recursion if function crosses zero\n",
    "    # in any subinterval\n",
    "    else:\n",
    "        if f(a)*f(x) <= 0:\n",
    "            roots = root_bisection(f, a, x, roots, eps)\n",
    "        if f(x)*f(b) <= 0:\n",
    "            roots = root_bisection(f, x, b, roots, eps)\n",
    "        \n",
    "    return roots"
   ]
  },
  {
   "cell_type": "code",
   "execution_count": 36,
   "metadata": {},
   "outputs": [
    {
     "name": "stdout",
     "output_type": "stream",
     "text": [
      "found 1. solution (exact)\n",
      "[-1.]\n"
     ]
    }
   ],
   "source": [
    "x0 = root_bisection(quadratic, -2, 0, [])\n",
    "print(x0)"
   ]
  },
  {
   "cell_type": "code",
   "execution_count": 37,
   "metadata": {},
   "outputs": [
    {
     "name": "stdout",
     "output_type": "stream",
     "text": [
      "found 2. solution, deviation f(x) = -5.492829e-04\n",
      "[-1.          1.99981689]\n"
     ]
    }
   ],
   "source": [
    "x0 = root_bisection(quadratic, 0, 5, x0)\n",
    "print(x0)"
   ]
  },
  {
   "cell_type": "code",
   "execution_count": 38,
   "metadata": {},
   "outputs": [
    {
     "name": "stdout",
     "output_type": "stream",
     "text": [
      "found 1. solution, deviation f(x) = 1.831092e-04\n",
      "found 2. solution, deviation f(x) = -5.492829e-04\n",
      "[-1.00006104  1.99981689]\n"
     ]
    }
   ],
   "source": [
    "x0 = root_bisection(quadratic, -5, 5, [])\n",
    "print(x0)"
   ]
  },
  {
   "cell_type": "code",
   "execution_count": 39,
   "metadata": {},
   "outputs": [],
   "source": [
    "def f(x):\n",
    "    return (x-5)*np.exp(x) + 5"
   ]
  },
  {
   "cell_type": "code",
   "execution_count": 40,
   "metadata": {},
   "outputs": [
    {
     "name": "stdout",
     "output_type": "stream",
     "text": [
      "found 1. solution, deviation f(x) = -1.220843e-03\n",
      "found 2. solution, deviation f(x) = -2.896551e-02\n",
      "[3.05175781e-04 4.96490479e+00]\n"
     ]
    }
   ],
   "source": [
    "x0 = root_bisection(f, 0, 10, [])\n",
    "print(x0)"
   ]
  },
  {
   "cell_type": "code",
   "execution_count": 41,
   "metadata": {},
   "outputs": [
    {
     "data": {
      "text/plain": [
       "[<matplotlib.lines.Line2D at 0x7fcaa35d2d50>]"
      ]
     },
     "execution_count": 41,
     "metadata": {},
     "output_type": "execute_result"
    },
    {
     "data": {
      "image/png": "[encoded data removed]",
      "text/plain": [
       "<Figure size 432x288 with 1 Axes>"
      ]
     },
     "metadata": {
      "needs_background": "light"
     },
     "output_type": "display_data"
    }
   ],
   "source": [
    "x = np.arange(0,6,0.1)\n",
    "plt.plot(x, f(x))"
   ]
  },
  {
   "cell_type": "code",
   "execution_count": 42,
   "metadata": {},
   "outputs": [
    {
     "name": "stdout",
     "output_type": "stream",
     "text": [
      "found 1. solution, deviation f(x) = -1.192093e-06\n",
      "found 2. solution, deviation f(x) = 8.816604e-06\n",
      "[2.98023224e-07 4.96511430e+00]\n"
     ]
    }
   ],
   "source": [
    "x0 = root_bisection(f, 0, 10, [], eps=1e-6)\n",
    "print(x0)"
   ]
  },
  {
   "cell_type": "code",
   "execution_count": 43,
   "metadata": {},
   "outputs": [
    {
     "name": "stdout",
     "output_type": "stream",
     "text": [
      "T [K]   maximum [nm]\n",
      "       scipy   bisect\n",
      " 3130  925.81  925.81\n",
      " 3590  807.18  807.18\n",
      " 4290  675.47  675.47\n",
      " 5778  501.52  501.52\n",
      " 9940  291.53  291.53\n",
      "24800  116.85  116.85\n"
     ]
    }
   ],
   "source": [
    "from scipy.constants import Wien\n",
    "\n",
    "print(\"T [K]   maximum [nm]\")\n",
    "print(\"       scipy   bisect\")\n",
    "for T in T_sample:\n",
    "    print(\"{:>5.0f}  {:.2f}  {:.2f}\".format(T, 1e9*Wien/T, 1e9*h*c/(x0[1]*k*T)))"
   ]
  },
  {
   "cell_type": "markdown",
   "metadata": {},
   "source": [
    "## Physics of stellar atmospheres"
   ]
  },
  {
   "cell_type": "markdown",
   "metadata": {},
   "source": [
    "### Thermal excitation and ionization"
   ]
  },
  {
   "cell_type": "code",
   "execution_count": 44,
   "metadata": {},
   "outputs": [],
   "source": [
    "import numpy as np\n",
    "from scipy.constants import k, h, m_e, physical_constants\n",
    "\n",
    "# ionization energy of hydrogen\n",
    "chi = physical_constants['Rydberg constant times hc in J'][0]"
   ]
  },
  {
   "cell_type": "markdown",
   "metadata": {},
   "source": [
    "Fraction of neutral hydrogen in first excited state"
   ]
  },
  {
   "cell_type": "code",
   "execution_count": 45,
   "metadata": {},
   "outputs": [
    {
     "name": "stdout",
     "output_type": "stream",
     "text": [
      "T [K]  N2/N1\n",
      " 3130  1.485e-16\n",
      " 3590  1.892e-14\n",
      " 4290  4.115e-12\n",
      " 5778  5.030e-09\n",
      " 9940  2.681e-05\n",
      "24800  3.376e-02\n"
     ]
    }
   ],
   "source": [
    "# energy levels\n",
    "n1, n2 = 1, 2\n",
    "\n",
    "print(\"T [K]  N2/N1\")\n",
    "for T in T_sample:\n",
    "    print(\"{:5.0f}  {:.3e}\".format(T,\n",
    "        (n2/n1)**2 * np.exp(chi*(1/n2**2 - 1/n1**2)/(k*T))))"
   ]
  },
  {
   "cell_type": "code",
   "execution_count": 46,
   "metadata": {},
   "outputs": [],
   "source": [
    "def HII_frac(T, P_e):\n",
    "    \"\"\"\n",
    "    computes fraction of ionized hydrogen \n",
    "    using the Saha equation\n",
    "\n",
    "    args: T - temperature in K\n",
    "          P_e - electron pressure in Pa\n",
    "\n",
    "    returns: HII fraction\n",
    "    \"\"\"\n",
    "    E_therm = k*T\n",
    "    \n",
    "    return (E_therm/P_e) * (2*np.pi*m_e*E_therm/h**2)**(3/2) * np.exp(-chi/E_therm)"
   ]
  },
  {
   "cell_type": "markdown",
   "metadata": {},
   "source": [
    "Compute and plot fraction of hydrogen in first excited state relative to all hydrogen"
   ]
  },
  {
   "cell_type": "code",
   "execution_count": 47,
   "metadata": {},
   "outputs": [
    {
     "data": {
      "image/png": "[encoded data removed]",
      "text/plain": [
       "<Figure size 600x400 with 1 Axes>"
      ]
     },
     "metadata": {
      "needs_background": "light"
     },
     "output_type": "display_data"
    }
   ],
   "source": [
    "import matplotlib.pyplot as plt\n",
    "\n",
    "P_e = 20 # electron pressure in Pa\n",
    "\n",
    "# temperature in K\n",
    "T_min, T_max = 5e3, 25e3\n",
    "T = np.arange(T_min, T_max, 100.0)\n",
    "\n",
    "# fraction of HI in first excited state\n",
    "HI2_frac = 4*np.exp(-0.75*chi/(k*T))\n",
    "\n",
    "# plot fraction of all hydrogen in first excited state\n",
    "plt.figure(figsize=(6,4), dpi=100)\n",
    "plt.plot(T, 1e5*HI2_frac/((1 + HI2_frac)*(1 + HII_frac(T, P_e))))\n",
    "plt.xlim(T_min, T_max)\n",
    "plt.xlabel(\"$T$ [K]\")\n",
    "plt.ylim(0, 0.9)\n",
    "plt.ylabel(\"$10^5\\,N_2/N_{\\mathrm{I+II}}$\")\n",
    "plt.savefig(\"hydrogen_frac.pdf\")"
   ]
  },
  {
   "cell_type": "code",
   "execution_count": 48,
   "metadata": {},
   "outputs": [
    {
     "data": {
      "image/png": "[encoded data removed]",
      "text/plain": [
       "<Figure size 600x400 with 2 Axes>"
      ]
     },
     "metadata": {
      "needs_background": "light"
     },
     "output_type": "display_data"
    }
   ],
   "source": [
    "from mpl_toolkits.mplot3d import Axes3D\n",
    "from matplotlib.ticker import LinearLocator\n",
    "\n",
    "fig = plt.figure(figsize=(6,4), dpi=100)\n",
    "ax = plt.axes(projection='3d')\n",
    "\n",
    "P_min, P_max  = 10, 100\n",
    "\n",
    "# create meshgrid \n",
    "# (x-axis: temperature, y-axis: electron pressure)\n",
    "T, P_e = np.meshgrid(np.arange(T_min, T_max, 200.0), \n",
    "                     np.arange(P_min, P_max, 1.0))\n",
    "\n",
    "# fraction of HI in first excited state\n",
    "HI2_frac = 4*np.exp(-0.75*chi/(k*T))\n",
    "\n",
    "# create surface plot\n",
    "surf = ax.plot_surface(T, P_e, \n",
    "    1e5*HI2_frac/((1 + HI2_frac)*(1 + HII_frac(T, P_e))), \n",
    "    rcount=100, ccount=100,\n",
    "    cmap='BuPu', antialiased=False)\n",
    "\n",
    "# customize axes\n",
    "ax.set_xlim(T_min, T_max)\n",
    "ax.set_xlabel(\"$T$ [K]\")\n",
    "ax.xaxis.set_major_locator(LinearLocator(5))\n",
    "ax.set_ylim(P_min, P_max)\n",
    "ax.set_ylabel(\"$P_{\\mathrm{e}}$ [Pa]\")\n",
    "\n",
    "# add color bar for z-axis\n",
    "cbar = fig.colorbar(surf, shrink=0.5, aspect=5)\n",
    "cbar.ax.set_ylabel(\"$10^5 N_2/N_{\\mathrm{I+II}}$\")\n",
    "\n",
    "plt.savefig(\"hydrogen_frac_3d.png\")"
   ]
  },
  {
   "cell_type": "markdown",
   "metadata": {},
   "source": [
    "### The Balmer jump"
   ]
  },
  {
   "cell_type": "markdown",
   "metadata": {},
   "source": [
    "#### Numerical integration"
   ]
  },
  {
   "cell_type": "code",
   "execution_count": 49,
   "metadata": {},
   "outputs": [],
   "source": [
    "import numpy as np\n",
    "\n",
    "def integr_trapez(f, a, b, n):\n",
    "    \"\"\"\n",
    "    numerical integration of a function f(x)\n",
    "    using the trapezoidal rule\n",
    "\n",
    "    args: f - function f(x) \n",
    "          a - left endpoint of interval\n",
    "          b - right endpoint of interval\n",
    "          n - number of subintervals\n",
    "\n",
    "    returns: approximate integral\n",
    "    \"\"\"\n",
    "\n",
    "    # integration step\n",
    "    h = (b - a)/n\n",
    "    \n",
    "    # endpoints of subintervals between a+h and b-h\n",
    "    x = np.linspace(a+h, b-h, n-1)\n",
    "    \n",
    "    return 0.5*h*(f(a) + 2*np.sum(f(x)) + f(b))"
   ]
  },
  {
   "cell_type": "code",
   "execution_count": 50,
   "metadata": {},
   "outputs": [
    {
     "name": "stdout",
     "output_type": "stream",
     "text": [
      " n  integr\n",
      "10  0.997943\n",
      "20  0.999486\n",
      "30  0.999772\n",
      "40  0.999871\n",
      "50  0.999918\n"
     ]
    }
   ],
   "source": [
    "print(\" n  integr\")\n",
    "for n in range(10,60,10):\n",
    "    print(\"{:2d}  {:.6f}\".format(n, integr_trapez(np.sin, 0, np.pi/2, n)))"
   ]
  },
  {
   "cell_type": "code",
   "execution_count": 51,
   "metadata": {},
   "outputs": [
    {
     "ename": "ZeroDivisionError",
     "evalue": "float division by zero",
     "output_type": "error",
     "traceback": [
      "\u001b[0;31m---------------------------------------------------------------------------\u001b[0m",
      "\u001b[0;31mZeroDivisionError\u001b[0m                         Traceback (most recent call last)",
      "\u001b[0;32m<ipython-input-51-2573c81f52ca>\u001b[0m in \u001b[0;36m<module>\u001b[0;34m\u001b[0m\n\u001b[0;32m----> 1\u001b[0;31m \u001b[0mintegr_trapez\u001b[0m\u001b[0;34m(\u001b[0m\u001b[0mnp\u001b[0m\u001b[0;34m.\u001b[0m\u001b[0msin\u001b[0m\u001b[0;34m,\u001b[0m \u001b[0;36m0\u001b[0m\u001b[0;34m,\u001b[0m \u001b[0mnp\u001b[0m\u001b[0;34m.\u001b[0m\u001b[0mpi\u001b[0m\u001b[0;34m/\u001b[0m\u001b[0;36m2\u001b[0m\u001b[0;34m,\u001b[0m \u001b[0;36m0\u001b[0m\u001b[0;34m)\u001b[0m\u001b[0;34m\u001b[0m\u001b[0;34m\u001b[0m\u001b[0m\n\u001b[0m",
      "\u001b[0;32m<ipython-input-49-e251122c1d21>\u001b[0m in \u001b[0;36mintegr_trapez\u001b[0;34m(f, a, b, n)\u001b[0m\n\u001b[1;32m     15\u001b[0m \u001b[0;34m\u001b[0m\u001b[0m\n\u001b[1;32m     16\u001b[0m     \u001b[0;31m# integration step\u001b[0m\u001b[0;34m\u001b[0m\u001b[0;34m\u001b[0m\u001b[0;34m\u001b[0m\u001b[0m\n\u001b[0;32m---> 17\u001b[0;31m     \u001b[0mh\u001b[0m \u001b[0;34m=\u001b[0m \u001b[0;34m(\u001b[0m\u001b[0mb\u001b[0m \u001b[0;34m-\u001b[0m \u001b[0ma\u001b[0m\u001b[0;34m)\u001b[0m\u001b[0;34m/\u001b[0m\u001b[0mn\u001b[0m\u001b[0;34m\u001b[0m\u001b[0;34m\u001b[0m\u001b[0m\n\u001b[0m\u001b[1;32m     18\u001b[0m \u001b[0;34m\u001b[0m\u001b[0m\n\u001b[1;32m     19\u001b[0m     \u001b[0;31m# endpoints of subintervals between a+h and b-h\u001b[0m\u001b[0;34m\u001b[0m\u001b[0;34m\u001b[0m\u001b[0;34m\u001b[0m\u001b[0m\n",
      "\u001b[0;31mZeroDivisionError\u001b[0m: float division by zero"
     ]
    }
   ],
   "source": [
    "integr_trapez(np.sin, 0, np.pi/2, 0)"
   ]
  },
  {
   "cell_type": "code",
   "execution_count": 52,
   "metadata": {},
   "outputs": [],
   "source": [
    "def integr_trapez(f, a, b, n):\n",
    "    \"\"\"\n",
    "    numerical integration of a function f(x)\n",
    "    using the trapezoidal rule\n",
    "\n",
    "    args: f - function f(x) \n",
    "          a - left endpoint of interval\n",
    "          b - right endpoint of interval\n",
    "          n - number of subintervals\n",
    "\n",
    "    returns: approximate integral\n",
    "    \"\"\"\n",
    "    \n",
    "    # integration step with exception handling\n",
    "    try:\n",
    "        h = (b - a)/n\n",
    "    except ZeroDivisionError:\n",
    "        print(\"Error: n must be non-zero\")\n",
    "        return None\n",
    "    \n",
    "    # endpoints of subintervals between a+h and b-h\n",
    "    x = np.linspace(a+h, b-h, n-1)\n",
    "    \n",
    "    return 0.5*h*(f(a) + 2*np.sum(f(x)) + f(b))"
   ]
  },
  {
   "cell_type": "code",
   "execution_count": 53,
   "metadata": {},
   "outputs": [
    {
     "name": "stdout",
     "output_type": "stream",
     "text": [
      " n  integr\n",
      " 0  Error: n must be non-zero\n",
      "10  0.997943\n",
      "20  0.999486\n",
      "30  0.999772\n",
      "40  0.999871\n",
      "50  0.999918\n"
     ]
    }
   ],
   "source": [
    "print(\" n  integr\")\n",
    "for n in range(0,60,10):\n",
    "    print(\"{:2d}\".format(n), end=\"  \")\n",
    "    \n",
    "    intgr = integr_trapez(np.sin, 0, np.pi/2, n)\n",
    "    \n",
    "    if intgr != None:\n",
    "        print(\"{:.6f}\".format(intgr))"
   ]
  },
  {
   "cell_type": "code",
   "execution_count": 54,
   "metadata": {},
   "outputs": [],
   "source": [
    "def integr_trapez(f, a, b, n):\n",
    "    \"\"\"\n",
    "    numerical integration of a function f(x)\n",
    "    using the trapezoidal rule\n",
    "\n",
    "    args: f - function f(x) \n",
    "          a - left endpoint of interval\n",
    "          b - right endpoint of interval\n",
    "          n - number of subintervals\n",
    "\n",
    "    returns: approximate integral\n",
    "    \"\"\"\n",
    "    n = int(n)\n",
    "    \n",
    "    # integration step with exception handling\n",
    "    try:\n",
    "        if n > 0:\n",
    "            h = (b - a)/n\n",
    "        else:\n",
    "            raise ValueError\n",
    "    except ValueError:\n",
    "        print(\"Invalid argument: n must be positive\")\n",
    "        return None\n",
    "    \n",
    "    # endpoints of subintervals between a+h and b-h\n",
    "    x = np.linspace(a+h, b-h, n-1)\n",
    "    \n",
    "    return 0.5*h*(f(a) + 2*np.sum(f(x)) + f(b))"
   ]
  },
  {
   "cell_type": "code",
   "execution_count": 55,
   "metadata": {},
   "outputs": [
    {
     "name": "stdout",
     "output_type": "stream",
     "text": [
      "Invalid argument: n must be positive\n"
     ]
    }
   ],
   "source": [
    "integr_trapez(np.sin, 0, np.pi/2, -1)"
   ]
  },
  {
   "cell_type": "code",
   "execution_count": 56,
   "metadata": {},
   "outputs": [
    {
     "data": {
      "text/plain": [
       "0.9917617687547272"
      ]
     },
     "execution_count": 56,
     "metadata": {},
     "output_type": "execute_result"
    }
   ],
   "source": [
    "integr_trapez(np.sin, 0, np.pi/2, 5.5)"
   ]
  },
  {
   "cell_type": "code",
   "execution_count": 57,
   "metadata": {},
   "outputs": [],
   "source": [
    "def integr_simpson(f, a, b, n):\n",
    "    \"\"\"\n",
    "    numerical integration of a function f(x)\n",
    "    using Simpson's rule\n",
    "\n",
    "    args: f - function f(x) \n",
    "          a - left endpoint of interval\n",
    "          b - right endpoint of interval\n",
    "          n - number of subintervals (positive even integer)\n",
    "\n",
    "    returns: approximate integral\n",
    "    \"\"\"\n",
    "    \n",
    "    # need even number of subintervals\n",
    "    n = max(2, 2*int(n/2))\n",
    "    \n",
    "    # integration step\n",
    "    h = (b - a)/n\n",
    "    \n",
    "    # endpoints of subintervals (even and odd multiples of h)\n",
    "    x_even = np.linspace(a+2*h, b-2*h, int(n/2-1))\n",
    "    x_odd  = np.linspace(a+h, b-h, int(n/2))\n",
    "    \n",
    "    return (h/3)*(f(a) + 2*np.sum(f(x_even)) + 4*np.sum(f(x_odd)) + f(b))"
   ]
  },
  {
   "cell_type": "code",
   "execution_count": 58,
   "metadata": {},
   "outputs": [
    {
     "name": "stdout",
     "output_type": "stream",
     "text": [
      " n  integr\n",
      " 2  1.00227988\n",
      " 4  1.00013458\n",
      " 6  1.00002631\n",
      " 8  1.00000830\n",
      "10  1.00000339\n"
     ]
    }
   ],
   "source": [
    "print(\" n  integr\")\n",
    "for n in range(2,12,2):\n",
    "    print(\"{:2d}  {:.8f}\".format(n, integr_simpson(np.sin, 0, np.pi/2, n)))"
   ]
  },
  {
   "cell_type": "markdown",
   "metadata": {},
   "source": [
    "#### Integration of the Planck function"
   ]
  },
  {
   "cell_type": "code",
   "execution_count": 59,
   "metadata": {},
   "outputs": [
    {
     "name": "stderr",
     "output_type": "stream",
     "text": [
      "/srv/conda/envs/notebook/lib/python3.7/site-packages/ipykernel_launcher.py:1: RuntimeWarning: overflow encountered in exp\n",
      "  \"\"\"Entry point for launching an IPython kernel.\n"
     ]
    },
    {
     "data": {
      "text/plain": [
       "inf"
      ]
     },
     "execution_count": 59,
     "metadata": {},
     "output_type": "execute_result"
    }
   ],
   "source": [
    "np.exp(1e3)"
   ]
  },
  {
   "cell_type": "markdown",
   "metadata": {},
   "source": [
    "Logarithm of the largest float number"
   ]
  },
  {
   "cell_type": "code",
   "execution_count": 60,
   "metadata": {},
   "outputs": [
    {
     "data": {
      "text/plain": [
       "709.782712893384"
      ]
     },
     "execution_count": 60,
     "metadata": {},
     "output_type": "execute_result"
    }
   ],
   "source": [
    "import sys\n",
    "\n",
    "np.log(sys.float_info.max)"
   ]
  },
  {
   "cell_type": "code",
   "execution_count": 61,
   "metadata": {},
   "outputs": [],
   "source": [
    "def planck_spectrum(wavelength, T):\n",
    "    \"\"\"\n",
    "    function computes Planck spectrum of a black body\n",
    "    uses cutoff of exponent to avoid overflow\n",
    "\n",
    "    args: numpy arrays\n",
    "          wavelength - wavelength in m\n",
    "          T - temperature in K \n",
    "\n",
    "    returns: intensity in W/m^2/m/sr\n",
    "    \"\"\"    \n",
    "    return 2*h*c**2 / (wavelength**5 * \n",
    "        (np.exp(np.minimum(700, h*c/(wavelength*k*T))) - 1))"
   ]
  },
  {
   "cell_type": "markdown",
   "metadata": {},
   "source": [
    "Fraction of photons above $\\lambda = 364.7\\;{\\rm nm}$ (Balmer jump)"
   ]
  },
  {
   "cell_type": "code",
   "execution_count": 62,
   "metadata": {},
   "outputs": [
    {
     "name": "stdout",
     "output_type": "stream",
     "text": [
      "Teff [K] flux [%]\n",
      " 3130     0.13\n",
      " 3590     0.46\n",
      " 4290     1.71\n",
      " 5778     8.43\n",
      " 9940    40.87\n",
      "24800    89.12\n"
     ]
    }
   ],
   "source": [
    "print(\"Teff [K] flux [%]\")\n",
    "for Teff in T_sample:\n",
    "    frac = np.pi*integr_simpson(\n",
    "        lambda x : planck_spectrum(x, Teff), \n",
    "        1e-9, 364.7e-9, 100) / (sigma * Teff**4)\n",
    "    print(\"{:5.0f}    {:5.2f}\".format(Teff, 100*frac))"
   ]
  },
  {
   "cell_type": "markdown",
   "metadata": {},
   "source": [
    "## Planetary ephemerides with VSOP87"
   ]
  },
  {
   "cell_type": "code",
   "execution_count": 63,
   "metadata": {},
   "outputs": [],
   "source": [
    "# local module in file vsop87.py\n",
    "import vsop87"
   ]
  },
  {
   "cell_type": "code",
   "execution_count": 64,
   "metadata": {},
   "outputs": [],
   "source": [
    "import math\n",
    "\n",
    "def Julian_date(D, M, Y, UT):\n",
    "    \"\"\"\n",
    "    converts day, month, year, and universal time into\n",
    "    Julian date\n",
    "\n",
    "    args: D - day \n",
    "          M - month\n",
    "          Y - year\n",
    "          UT - universal time\n",
    "\n",
    "    returns: Julian date\n",
    "    \"\"\"\n",
    "    \n",
    "    if (M <= 2):\n",
    "        y = Y-1\n",
    "        m = M+12\n",
    "    else:\n",
    "        y = Y\n",
    "        m = M\n",
    "        \n",
    "    if (Y < 1582):\n",
    "        B = -2\n",
    "    elif (Y == 1582):\n",
    "        if (M < 10):\n",
    "            B = -2\n",
    "        elif (M == 10):\n",
    "            if (D <= 4):\n",
    "                B=-2\n",
    "            else:\n",
    "                B = math.floor(y/400) - math.floor(y/100)\n",
    "        else:\n",
    "            B = math.floor(y/400) - math.floor(y/100)\n",
    "    else:\n",
    "        B = math.floor(y/400) - math.floor(y/100)\n",
    "\n",
    "    return math.floor(365.25*y) + math.floor(30.6001*(m+1)) + B + 1720996.5 + D + UT/24"
   ]
  },
  {
   "cell_type": "markdown",
   "metadata": {},
   "source": [
    "Use module ```datetime``` to obtain date and UTC now"
   ]
  },
  {
   "cell_type": "code",
   "execution_count": 65,
   "metadata": {},
   "outputs": [
    {
     "name": "stdout",
     "output_type": "stream",
     "text": [
      "Julian date: 2459587.7571\n"
     ]
    }
   ],
   "source": [
    "from datetime import datetime\n",
    "\n",
    "# get date and UTC now\n",
    "now = datetime.utcnow()\n",
    "\n",
    "JD = Julian_date(now.day, now.month, now.year, \n",
    "                 now.hour + now.minute/60 + now.second/3600)\n",
    "\n",
    "# convert to Julian date\n",
    "print(\"Julian date: {:.4f}\".format(JD))"
   ]
  },
  {
   "cell_type": "code",
   "execution_count": 66,
   "metadata": {},
   "outputs": [],
   "source": [
    "def Earth_Mars_dist(JD):\n",
    "    delta_x = vsop87.Earth_X(JD) - vsop87.Mars_X(JD)\n",
    "    delta_y = vsop87.Earth_Y(JD) - vsop87.Mars_Y(JD)\n",
    "    delta_z = vsop87.Earth_Z(JD) - vsop87.Mars_Z(JD)\n",
    "    return vsop87.np.sqrt(delta_x**2 + delta_y**2 + delta_z**2)"
   ]
  },
  {
   "cell_type": "code",
   "execution_count": 67,
   "metadata": {},
   "outputs": [
    {
     "name": "stdout",
     "output_type": "stream",
     "text": [
      "distance between Earth and Mars now: 2.302 AU\n"
     ]
    }
   ],
   "source": [
    "print(\"distance between Earth and Mars now: {:.3f} AU\".format(\n",
    "    Earth_Mars_dist(JD)))"
   ]
  },
  {
   "cell_type": "markdown",
   "metadata": {},
   "source": [
    "Julian dates for next 1000 days"
   ]
  },
  {
   "cell_type": "code",
   "execution_count": 68,
   "metadata": {},
   "outputs": [
    {
     "data": {
      "text/plain": [
       "Text(0, 0.5, '$d$ [AU]')"
      ]
     },
     "execution_count": 68,
     "metadata": {},
     "output_type": "execute_result"
    },
    {
     "data": {
      "image/png": "[encoded data removed]",
      "text/plain": [
       "<Figure size 600x400 with 1 Axes>"
      ]
     },
     "metadata": {
      "needs_background": "light"
     },
     "output_type": "display_data"
    }
   ],
   "source": [
    "import numpy as np\n",
    "import matplotlib.pyplot as plt\n",
    "%matplotlib inline\n",
    "\n",
    "t = JD + np.arange(1000)\n",
    "\n",
    "plt.figure(figsize=(6,4), dpi=100)\n",
    "plt.plot(t, Earth_Mars_dist(t))\n",
    "plt.xlabel(\"JD [d]\")\n",
    "plt.ylabel(\"$d$ [AU]\" )"
   ]
  },
  {
   "cell_type": "markdown",
   "metadata": {},
   "source": [
    "#### Centered difference method"
   ]
  },
  {
   "cell_type": "code",
   "execution_count": 69,
   "metadata": {},
   "outputs": [],
   "source": [
    "import numpy as np"
   ]
  },
  {
   "cell_type": "code",
   "execution_count": 70,
   "metadata": {},
   "outputs": [],
   "source": [
    "def derv_center2(f, x, h):\n",
    "    \"\"\"\n",
    "    approximates derivative of a function\n",
    "    by second-order centered differences\n",
    "\n",
    "    args: f - function f(x) \n",
    "          x - points for which df/dx is computed\n",
    "          h - backward/forward difference\n",
    "\n",
    "    returns: approximation of df/dx\n",
    "    \"\"\"\n",
    "    return (f(x+h) - f(x-h))/(2*h)"
   ]
  },
  {
   "cell_type": "markdown",
   "metadata": {},
   "source": [
    "Test: derivative of $\\sin(x)$"
   ]
  },
  {
   "cell_type": "code",
   "execution_count": 71,
   "metadata": {},
   "outputs": [
    {
     "name": "stdout",
     "output_type": "stream",
     "text": [
      " analytic    cd2\n",
      " 1.000000  0.998334\n",
      " 0.923880  0.922341\n",
      " 0.707107  0.705929\n",
      " 0.382683  0.382046\n",
      " 0.000000  0.000000\n",
      "-0.382683 -0.382046\n",
      "-0.707107 -0.705929\n",
      "-0.923880 -0.922341\n",
      "-1.000000 -0.998334\n"
     ]
    }
   ],
   "source": [
    "h = 0.1\n",
    "x = np.linspace(0, np.pi, 9)\n",
    "\n",
    "print(\" analytic    cd2\")\n",
    "for (exact,approx) in zip(np.cos(x), \n",
    "                          derv_center2(np.sin, x, h)):\n",
    "    print(\"{:9.6f} {:9.6f}\".format(exact,approx))"
   ]
  },
  {
   "cell_type": "code",
   "execution_count": 72,
   "metadata": {},
   "outputs": [],
   "source": [
    "def dderv_center2(f, x, h):\n",
    "    \"\"\"\n",
    "    approximates second derivative of a function\n",
    "    by second-order centered differences\n",
    "\n",
    "    args: f - function f(x) \n",
    "          x - points for which df/dx is computed\n",
    "          h - backward/forward difference\n",
    "\n",
    "    returns: approximation of d^2 f/dx^2\n",
    "    \"\"\"\n",
    "    return (f(x+h) - 2*f(x) + f(x-h))/h**2"
   ]
  },
  {
   "cell_type": "code",
   "execution_count": 73,
   "metadata": {},
   "outputs": [
    {
     "name": "stdout",
     "output_type": "stream",
     "text": [
      " 1st derv  2nd derv\n",
      " 0.998334  0.000000\n",
      " 0.922341 -0.382365\n",
      " 0.705929 -0.706518\n",
      " 0.382046 -0.923110\n",
      " 0.000000 -0.999167\n",
      "-0.382046 -0.923110\n",
      "-0.705929 -0.706518\n",
      "-0.922341 -0.382365\n",
      "-0.998334  0.000000\n"
     ]
    }
   ],
   "source": [
    "print(\" 1st derv  2nd derv\")\n",
    "for (derv,dderv) in zip(derv_center2(np.sin, x, h),\n",
    "                        dderv_center2(np.sin, x, h)):\n",
    "    print(\"{:9.6f} {:9.6f}\".format(derv,dderv))"
   ]
  },
  {
   "cell_type": "markdown",
   "metadata": {},
   "source": [
    "#### Newton–Raphson method"
   ]
  },
  {
   "cell_type": "code",
   "execution_count": 74,
   "metadata": {},
   "outputs": [],
   "source": [
    "def root_newton(f, df, x0, eps=1e-3, imax=100):\n",
    "    \"\"\"\n",
    "    Newton–Raphson algorithm for finding the root of a function f(x)\n",
    "\n",
    "    args: f - function f(x) \n",
    "          df - derivative df/dx\n",
    "          x0 - start point of iteration\n",
    "          eps - tolerance\n",
    "          imax - maximal number of iterations\n",
    "          verbose - print additiontal information if true\n",
    "\n",
    "    returns: estimate of x for which f(x) = 0\n",
    "    \"\"\"\n",
    "    \n",
    "    for i in range(imax):\n",
    "        x = x0 - f(x0)/df(x0)\n",
    "        \n",
    "        if abs(x - x0) < eps:\n",
    "            print(\"tolerance reached after {:d} iterations\".format(i+1)) \n",
    "            print(\"deviation: f(x) = {:.3e}\".format(f(x)))\n",
    "            return x\n",
    "\n",
    "        x0 = x  \n",
    "\n",
    "    print(\"exceeded {:d} iterations\".format(i+1), \"without reaching tolerance\") \n",
    "    return x"
   ]
  },
  {
   "cell_type": "code",
   "execution_count": 75,
   "metadata": {},
   "outputs": [],
   "source": [
    "def quadratic(x):\n",
    "    return x**2 - x - 2"
   ]
  },
  {
   "cell_type": "code",
   "execution_count": 76,
   "metadata": {},
   "outputs": [
    {
     "name": "stdout",
     "output_type": "stream",
     "text": [
      "tolerance reached after 5 iterations\n",
      "deviation: f(x) = 2.095e-09\n"
     ]
    },
    {
     "data": {
      "text/plain": [
       "-1.000000000698492"
      ]
     },
     "execution_count": 76,
     "metadata": {},
     "output_type": "execute_result"
    }
   ],
   "source": [
    "root_newton(quadratic, lambda x: 2*x - 1, 0)"
   ]
  },
  {
   "cell_type": "code",
   "execution_count": 77,
   "metadata": {},
   "outputs": [
    {
     "name": "stdout",
     "output_type": "stream",
     "text": [
      "tolerance reached after 6 iterations\n",
      "deviation: f(x) = 1.267e-08\n"
     ]
    },
    {
     "data": {
      "text/plain": [
       "2.0000000042242396"
      ]
     },
     "execution_count": 77,
     "metadata": {},
     "output_type": "execute_result"
    }
   ],
   "source": [
    "root_newton(quadratic, lambda x: 2*x - 1, 10)"
   ]
  },
  {
   "cell_type": "markdown",
   "metadata": {},
   "source": [
    "#### Minimal distance of Earth to Mars"
   ]
  },
  {
   "cell_type": "markdown",
   "metadata": {},
   "source": [
    "Find time $t$ for which $\\dot{d}=0$ by applying the Newton-Raphson method to $\\dot{d}$.\n",
    "\n",
    "Depending on the current Julian date, you will need to set a start point given by ```JD``` plus a certain number of days to obtain the next minimum of $d$."
   ]
  },
  {
   "cell_type": "code",
   "execution_count": 78,
   "metadata": {},
   "outputs": [
    {
     "name": "stdout",
     "output_type": "stream",
     "text": [
      "tolerance reached after 4 iterations\n",
      "deviation: f(x) = 3.192e-10\n",
      "\n",
      "distance = 2.638 AU in -110 days (2021-09-20)\n"
     ]
    }
   ],
   "source": [
    "delta_t = 0.1\n",
    "\n",
    "JD_extrem = root_newton(\n",
    "    lambda t : derv_center2(Earth_Mars_dist, t, delta_t),\n",
    "    lambda t : dderv_center2(Earth_Mars_dist, t, delta_t),\n",
    "    JD, eps=delta_t)\n",
    "\n",
    "print(\"\\ndistance = {1:.3f} AU in {0:.0f} days\".format(\n",
    "        JD_extrem-JD, Earth_Mars_dist(JD_extrem)),\n",
    "    \"({:4.0f}-{:02.0f}-{:02.0f})\".format(\n",
    "        vsop87.JD_year(JD_extrem), \n",
    "        vsop87.JD_month(JD_extrem), \n",
    "        vsop87.JD_day(JD_extrem)))"
   ]
  },
  {
   "cell_type": "code",
   "execution_count": 79,
   "metadata": {},
   "outputs": [
    {
     "data": {
      "image/png": "[encoded data removed]",
      "text/plain": [
       "<Figure size 600x400 with 1 Axes>"
      ]
     },
     "metadata": {
      "needs_background": "light"
     },
     "output_type": "display_data"
    }
   ],
   "source": [
    "plt.figure(figsize=(6,4), dpi=100)\n",
    "plt.plot(t, Earth_Mars_dist(t))\n",
    "plt.plot([JD_extrem], [Earth_Mars_dist(JD_extrem)], 'ro')\n",
    "plt.xlabel(\"JD [d]\")\n",
    "plt.ylabel(\"$d$ [AU]\" )\n",
    "plt.savefig(\"Earth_Mars_distance.pdf\")"
   ]
  },
  {
   "cell_type": "markdown",
   "metadata": {},
   "source": [
    "Check second derivative: $\\ddot{d}>0$ for a minimum"
   ]
  },
  {
   "cell_type": "code",
   "execution_count": 80,
   "metadata": {},
   "outputs": [
    {
     "data": {
      "text/plain": [
       "-6.171212318939466e-05"
      ]
     },
     "execution_count": 80,
     "metadata": {},
     "output_type": "execute_result"
    }
   ],
   "source": [
    "dderv_center2(Earth_Mars_dist, JD_extrem, delta_t)"
   ]
  },
  {
   "cell_type": "code",
   "execution_count": null,
   "metadata": {},
   "outputs": [],
   "source": []
  }
 ],
 "metadata": {
  "kernelspec": {
   "display_name": "Python 3",
   "language": "python",
   "name": "python3"
  },
  "language_info": {
   "codemirror_mode": {
    "name": "ipython",
    "version": 3
   },
   "file_extension": ".py",
   "mimetype": "text/x-python",
   "name": "python",
   "nbconvert_exporter": "python",
   "pygments_lexer": "ipython3",
   "version": "3.7.8"
  }
 },
 "nbformat": 4,
 "nbformat_minor": 4
}
